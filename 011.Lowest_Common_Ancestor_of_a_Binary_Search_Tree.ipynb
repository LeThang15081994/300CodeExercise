{
 "cells": [
  {
   "cell_type": "markdown",
   "metadata": {},
   "source": [
    "Given a binary search tree (BST), find the lowest common ancestor (LCA) node of two given nodes in the BST.\n",
    "According to the definition of LCA on Wikipedia: “The lowest common ancestor is defined between two nodes p and q as the lowest node in T that has both p and q as descendants (where we allow a node to be a descendant of itself).”\n",
    "\n",
    "6\n",
    "/ \\\n",
    "2  8\n",
    "/ \\ / \\\n",
    "0  4 7  9\n",
    "    / \\\n",
    "    3   5\n",
    "\n",
    "p = 2 , q = 8 \n",
    "===> LCA = 6"
   ]
  },
  {
   "cell_type": "code",
   "execution_count": 78,
   "metadata": {},
   "outputs": [],
   "source": [
    "from collections import deque\n",
    "# Khởi tạo class Treenode\n",
    "class TreeNode(object):\n",
    "    def __init__(self, val=0):\n",
    "        self.val = val\n",
    "        self.left = None\n",
    "        self.right = None"
   ]
  },
  {
   "cell_type": "code",
   "execution_count": 79,
   "metadata": {},
   "outputs": [],
   "source": [
    "def insertBST(rootnode,val): # khởi tạo hàm chèn thêm giá trị vào treenode\n",
    "    if val == 'null':  # Bỏ qua giá trị 'null'\n",
    "        return\n",
    "    \n",
    "    current = rootnode # khởi tạo con trỏ current \n",
    "\n",
    "    while True:\n",
    "        if val < current.val: # kiểm tra giá trị val có nhỏ hơn giá trị current hiện tại không\n",
    "            if not current.left: # kiểm tra giá trị current bên trái có rỗng không\n",
    "                current.left = TreeNode(val) # gán giá trị hiện tại vào giá trị bên trái\n",
    "                break\n",
    "\n",
    "            current = current.left # gán current bên trái vào giá trị current hiện tai\n",
    "            \n",
    "        else:\n",
    "            if not current.right: # kiểm tra giá trị current bên phải có rỗng không\n",
    "                current.right = TreeNode(val) # gán giá trị hiện tại vào giá trị bên phải\n",
    "                break\n",
    "\n",
    "            current = current.right # gán current bên phải vào giá trị current hiện tai\n",
    "\n",
    "    return rootnode"
   ]
  },
  {
   "cell_type": "code",
   "execution_count": 80,
   "metadata": {},
   "outputs": [],
   "source": [
    "def LsttoBST(data): # Khởi tạo hàm chuyển đổi list sang tree node\n",
    "    \n",
    "    if not data or data[0] == 'null':\n",
    "        return None\n",
    "    \n",
    "    root = TreeNode(data[0]) # khởi tạo root node là giá trị đầu tiên của list\n",
    "    for num in data[1:]:\n",
    "        insertBST(root,num) # chèn các giá trị của list vào treenode thông qua hàm insertBST\n",
    "    return root"
   ]
  },
  {
   "cell_type": "code",
   "execution_count": 81,
   "metadata": {},
   "outputs": [],
   "source": [
    "def rootPrint(root):\n",
    "    if not root:\n",
    "        return []\n",
    "    \n",
    "    queue = deque([root])\n",
    "    result = []\n",
    "    \n",
    "    while queue:\n",
    "        current = queue.popleft() # Lấy và loại bỏ node đầu tiên trong hàng đợi\n",
    "        result.append(current.val) # Thêm giá trị của node hiện tại vào danh sách kết quả\n",
    "        \n",
    "        if current.left:\n",
    "            queue.append(current.left) # Thêm node con bên trái vào hàng đợi\n",
    "        if current.right:\n",
    "            queue.append(current.right) # Thêm node con bên phải vào hàng đợi\n",
    "    \n",
    "    return result"
   ]
  },
  {
   "cell_type": "code",
   "execution_count": 82,
   "metadata": {},
   "outputs": [],
   "source": [
    "def print_tree(node, level=0, prefix=\"Root:\"):\n",
    "    if node is not None:\n",
    "        print(\" \" * (level * 4) + prefix + str(node.val))\n",
    "        print_tree(node.left, level + 1, prefix=\"L--- \")\n",
    "        print_tree(node.right, level + 1, prefix=\"R--- \")"
   ]
  },
  {
   "cell_type": "markdown",
   "metadata": {},
   "source": [
    "Cách 1"
   ]
  },
  {
   "cell_type": "code",
   "execution_count": 83,
   "metadata": {},
   "outputs": [],
   "source": [
    "def lowestCommonAncestor_1(root: 'TreeNode', p: 'TreeNode', q: 'TreeNode'):\n",
    "        \n",
    "    while True:\n",
    "        # Nếu giá trị của nút root lớn hơn cả giá trị của p và q\n",
    "        if root.val > p.val and root.val > q.val:\n",
    "            root = root.left # Di chuyển sang nút con bên trái\n",
    "         # Nếu giá trị của nút root nhỏ hơn cả giá trị của p và q\n",
    "        elif root.val < p.val and root.val < q.val:\n",
    "            root = root.right # Di chuyển sang nút con bên phải\n",
    "        else:\n",
    "            return root"
   ]
  },
  {
   "cell_type": "markdown",
   "metadata": {},
   "source": [
    "cách 2: đệ quy"
   ]
  },
  {
   "cell_type": "code",
   "execution_count": 91,
   "metadata": {},
   "outputs": [],
   "source": [
    "def lowestCommonAncestor_2(root: 'TreeNode', p: 'TreeNode', q: 'TreeNode'):\n",
    "        \n",
    "        # Nếu giá trị của nút root lớn hơn cả giá trị của p và q\n",
    "        if root.val > p.val and root.val > q.val:\n",
    "            return lowestCommonAncestor_2(root.left, p, q) # Di chuyển sang nút con bên trái\n",
    "         # Nếu giá trị của nút root nhỏ hơn cả giá trị của p và q\n",
    "        elif root.val < p.val and root.val < q.val:\n",
    "            return lowestCommonAncestor_2(root.right, p, q) # Di chuyển sang nút con bên phải\n",
    "        else:\n",
    "            return root"
   ]
  },
  {
   "cell_type": "code",
   "execution_count": 92,
   "metadata": {},
   "outputs": [
    {
     "name": "stdout",
     "output_type": "stream",
     "text": [
      "[6, 2, 8, 0, 4, 7, 9, 'null', 'null', 3, 5]\n",
      "Root:6\n",
      "    L--- 2\n",
      "        L--- 0\n",
      "        R--- 4\n",
      "            L--- 3\n",
      "            R--- 5\n",
      "    R--- 8\n",
      "        L--- 7\n",
      "        R--- 9\n"
     ]
    }
   ],
   "source": [
    "root = [6,2,8,0,4,7,9,'null','null',3,5]\n",
    "print(root)\n",
    "lst = LsttoBST(root)\n",
    "print_tree(lst)"
   ]
  },
  {
   "cell_type": "code",
   "execution_count": 100,
   "metadata": {},
   "outputs": [
    {
     "name": "stdout",
     "output_type": "stream",
     "text": [
      "LCA_1: 6\n",
      "LCA_2: 6\n"
     ]
    }
   ],
   "source": [
    "p = TreeNode(2)\n",
    "q =TreeNode(8)\n",
    "print(f'LCA_1: {lowestCommonAncestor_1(lst,p,q).val}')\n",
    "print(f'LCA_2: {lowestCommonAncestor_2(lst,p,q).val}')"
   ]
  },
  {
   "cell_type": "code",
   "execution_count": 101,
   "metadata": {},
   "outputs": [
    {
     "name": "stdout",
     "output_type": "stream",
     "text": [
      "LCA_1: 2\n",
      "LCA_2: 2\n"
     ]
    }
   ],
   "source": [
    "p = TreeNode(2)\n",
    "q =TreeNode(4)\n",
    "print(f'LCA_1: {lowestCommonAncestor_1(lst,p,q).val}')\n",
    "print(f'LCA_2: {lowestCommonAncestor_2(lst,p,q).val}')"
   ]
  },
  {
   "cell_type": "code",
   "execution_count": 105,
   "metadata": {},
   "outputs": [
    {
     "name": "stdout",
     "output_type": "stream",
     "text": [
      "[2, 1]\n",
      "Root:2\n",
      "    L--- 1\n"
     ]
    }
   ],
   "source": [
    "root = [2,1]\n",
    "print(root)\n",
    "lst_1 = LsttoBST(root)\n",
    "print_tree(lst)"
   ]
  },
  {
   "cell_type": "code",
   "execution_count": 106,
   "metadata": {},
   "outputs": [
    {
     "name": "stdout",
     "output_type": "stream",
     "text": [
      "LCA_1: 2\n",
      "LCA_2: 2\n"
     ]
    }
   ],
   "source": [
    "p = TreeNode(2)\n",
    "q =TreeNode(1)\n",
    "print(f'LCA_1: {lowestCommonAncestor_1(lst_1,p,q).val}')\n",
    "print(f'LCA_2: {lowestCommonAncestor_2(lst_1,p,q).val}')"
   ]
  }
 ],
 "metadata": {
  "kernelspec": {
   "display_name": "_imagesearchVenv",
   "language": "python",
   "name": "python3"
  },
  "language_info": {
   "codemirror_mode": {
    "name": "ipython",
    "version": 3
   },
   "file_extension": ".py",
   "mimetype": "text/x-python",
   "name": "python",
   "nbconvert_exporter": "python",
   "pygments_lexer": "ipython3",
   "version": "3.12.5"
  }
 },
 "nbformat": 4,
 "nbformat_minor": 2
}
