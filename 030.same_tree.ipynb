{
 "cells": [
  {
   "cell_type": "markdown",
   "metadata": {},
   "source": [
    "Given the roots of two binary trees p and q, write a function to check if they are the same or not.\n",
    "\n",
    "Two binary trees are considered the same if they are structurally identical, and the nodes have the same value."
   ]
  },
  {
   "cell_type": "code",
   "execution_count": 8,
   "metadata": {},
   "outputs": [],
   "source": [
    "from collections import deque\n",
    "# Khởi tạo class Treenode\n",
    "class TreeNode(object):\n",
    "    def __init__(self, val=0):\n",
    "        self.val = val\n",
    "        self.left = None\n",
    "        self.right = None"
   ]
  },
  {
   "cell_type": "code",
   "execution_count": 9,
   "metadata": {},
   "outputs": [],
   "source": [
    "def insertBT(arr): # khởi tạo hàm chèn thêm giá trị vào treenode\n",
    "    if not arr:\n",
    "        return None\n",
    "    \n",
    "    root = TreeNode(arr[0])  # Khởi tạo nút gốc\n",
    "    queue = [root]  # Sử dụng hàng đợi để theo dõi các nút\n",
    "    index = 1  # Chỉ số bắt đầu từ 1 vì gốc đã được khởi tạo\n",
    "\n",
    "    while index < len(arr):\n",
    "        current = queue.pop(0)  # Lấy nút đầu tiên trong hàng đợi\n",
    "        \n",
    "        # Chèn nút trái nếu không phải 'null'\n",
    "        if arr[index] != 'null':\n",
    "            current.left = TreeNode(arr[index])\n",
    "            queue.append(current.left)\n",
    "        index += 1\n",
    "        \n",
    "        # Chèn nút phải nếu không phải 'null'\n",
    "        if index < len(arr) and arr[index] != 'null':\n",
    "            current.right = TreeNode(arr[index])\n",
    "            queue.append(current.right)\n",
    "        index += 1\n",
    "\n",
    "    return root"
   ]
  },
  {
   "cell_type": "code",
   "execution_count": 10,
   "metadata": {},
   "outputs": [],
   "source": [
    "def print_tree(node, level=0, prefix=\"Root:\"):\n",
    "    if node is not None:\n",
    "        print(\" \" * (level * 4) + prefix + str(node.val))\n",
    "        print_tree(node.left, level + 1, prefix=\"L--- \")\n",
    "        print_tree(node.right, level + 1, prefix=\"R--- \")"
   ]
  },
  {
   "cell_type": "code",
   "execution_count": 17,
   "metadata": {},
   "outputs": [
    {
     "name": "stdout",
     "output_type": "stream",
     "text": [
      "[1, 2, 3]\n",
      "Root:1\n",
      "    L--- 2\n",
      "    R--- 3\n",
      "[1, 2, 3]\n",
      "Root:1\n",
      "    L--- 2\n",
      "    R--- 3\n"
     ]
    }
   ],
   "source": [
    "p = [1,2,3]\n",
    "q = [1,2,3]\n",
    "print(p)\n",
    "lst_1 = insertBT(p)\n",
    "lst_2 = insertBT(q)\n",
    "print_tree(lst_1)\n",
    "print(p)\n",
    "print_tree(lst_2)\n",
    "\n"
   ]
  }
 ],
 "metadata": {
  "kernelspec": {
   "display_name": "_imagesearchVenv",
   "language": "python",
   "name": "python3"
  },
  "language_info": {
   "codemirror_mode": {
    "name": "ipython",
    "version": 3
   },
   "file_extension": ".py",
   "mimetype": "text/x-python",
   "name": "python",
   "nbconvert_exporter": "python",
   "pygments_lexer": "ipython3",
   "version": "3.12.5"
  }
 },
 "nbformat": 4,
 "nbformat_minor": 2
}
