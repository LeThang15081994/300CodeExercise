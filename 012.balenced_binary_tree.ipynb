{
 "cells": [
  {
   "cell_type": "markdown",
   "metadata": {},
   "source": [
    "Given a binary tree, determine if it is height-balanced."
   ]
  },
  {
   "cell_type": "code",
   "execution_count": 3,
   "metadata": {},
   "outputs": [],
   "source": [
    "from collections import deque\n",
    "# Khởi tạo class Treenode\n",
    "class TreeNode(object):\n",
    "    def __init__(self, val=0):\n",
    "        self.val = val\n",
    "        self.left = None\n",
    "        self.right = None"
   ]
  },
  {
   "cell_type": "code",
   "execution_count": 4,
   "metadata": {},
   "outputs": [],
   "source": [
    "def insertBT(arr): # khởi tạo hàm chèn thêm giá trị vào treenode\n",
    "    if not arr:\n",
    "        return None\n",
    "    \n",
    "    root = TreeNode(arr[0])  # Khởi tạo nút gốc\n",
    "    queue = [root]  # Sử dụng hàng đợi để theo dõi các nút\n",
    "    index = 1  # Chỉ số bắt đầu từ 1 vì gốc đã được khởi tạo\n",
    "\n",
    "    while index < len(arr):\n",
    "        current = queue.pop(0)  # Lấy nút đầu tiên trong hàng đợi\n",
    "        \n",
    "        # Chèn nút trái nếu không phải 'null'\n",
    "        if arr[index] != 'null':\n",
    "            current.left = TreeNode(arr[index])\n",
    "            queue.append(current.left)\n",
    "        index += 1\n",
    "        \n",
    "        # Chèn nút phải nếu không phải 'null'\n",
    "        if index < len(arr) and arr[index] != 'null':\n",
    "            current.right = TreeNode(arr[index])\n",
    "            queue.append(current.right)\n",
    "        index += 1\n",
    "\n",
    "    return root"
   ]
  },
  {
   "cell_type": "code",
   "execution_count": 5,
   "metadata": {},
   "outputs": [],
   "source": [
    "def rootPrint(root):\n",
    "    if not root:\n",
    "        return []\n",
    "    \n",
    "    queue = deque([root])\n",
    "    result = []\n",
    "    \n",
    "    while queue:\n",
    "        current = queue.popleft() # Lấy và loại bỏ node đầu tiên trong hàng đợi\n",
    "        result.append(current.val) # Thêm giá trị của node hiện tại vào danh sách kết quả\n",
    "        \n",
    "        if current.left:\n",
    "            queue.append(current.left) # Thêm node con bên trái vào hàng đợi\n",
    "        if current.right:\n",
    "            queue.append(current.right) # Thêm node con bên phải vào hàng đợi\n",
    "    \n",
    "    return result"
   ]
  },
  {
   "cell_type": "code",
   "execution_count": 6,
   "metadata": {},
   "outputs": [],
   "source": [
    "def print_tree(node, level=0, prefix=\"Root:\"):\n",
    "    if node is not None:\n",
    "        print(\" \" * (level * 4) + prefix + str(node.val))\n",
    "        print_tree(node.left, level + 1, prefix=\"L--- \")\n",
    "        print_tree(node.right, level + 1, prefix=\"R--- \")"
   ]
  },
  {
   "cell_type": "code",
   "execution_count": 15,
   "metadata": {},
   "outputs": [],
   "source": [
    "def isBalanced_1(root):\n",
    "    def height(node):\n",
    "        if node is None:\n",
    "            return 0  # Chiều cao của cây rỗng là 0\n",
    "        \n",
    "        # Tính chiều cao của cây con trái và phải\n",
    "        left_height = height(node.left)\n",
    "        right_height = height(node.right)\n",
    "\n",
    "        # Kiểm tra xem cây có cân bằng hay không\n",
    "        if left_height == -1 or right_height == -1 or abs(left_height - right_height) > 1:\n",
    "            return -1  # Nếu không cân bằng, trả về -1\n",
    "        \n",
    "        return max(left_height, right_height) + 1  # Trả về chiều cao cây hiện tại\n",
    "\n",
    "    return height(root) != -1  # Cây cân bằng nếu chiều cao không trả về -1\n",
    "   "
   ]
  },
  {
   "cell_type": "code",
   "execution_count": 16,
   "metadata": {},
   "outputs": [
    {
     "name": "stdout",
     "output_type": "stream",
     "text": [
      "[3, 9, 20, 'null', 'null', 15, 7]\n",
      "Root:3\n",
      "    L--- 9\n",
      "    R--- 20\n",
      "        L--- 15\n",
      "        R--- 7\n"
     ]
    },
    {
     "data": {
      "text/plain": [
       "True"
      ]
     },
     "execution_count": 16,
     "metadata": {},
     "output_type": "execute_result"
    }
   ],
   "source": [
    "root = [3,9,20,'null','null',15,7]\n",
    "print(root)\n",
    "lst = insertBT(root)\n",
    "print_tree(lst)\n",
    "isBalanced_1(lst)"
   ]
  },
  {
   "cell_type": "code",
   "execution_count": 17,
   "metadata": {},
   "outputs": [
    {
     "name": "stdout",
     "output_type": "stream",
     "text": [
      "[1, 2, 2, 3, 3, 'null', 'null', 4, 4]\n",
      "Root:1\n",
      "    L--- 2\n",
      "        L--- 3\n",
      "            L--- 4\n",
      "            R--- 4\n",
      "        R--- 3\n",
      "    R--- 2\n"
     ]
    },
    {
     "data": {
      "text/plain": [
       "False"
      ]
     },
     "execution_count": 17,
     "metadata": {},
     "output_type": "execute_result"
    }
   ],
   "source": [
    "root = [1,2,2,3,3,'null','null',4,4]\n",
    "print(root)\n",
    "lst = insertBT(root)\n",
    "print_tree(lst)\n",
    "isBalanced_1(lst)"
   ]
  },
  {
   "cell_type": "code",
   "execution_count": 18,
   "metadata": {},
   "outputs": [
    {
     "name": "stdout",
     "output_type": "stream",
     "text": [
      "[]\n"
     ]
    },
    {
     "data": {
      "text/plain": [
       "True"
      ]
     },
     "execution_count": 18,
     "metadata": {},
     "output_type": "execute_result"
    }
   ],
   "source": [
    "root = []\n",
    "print(root)\n",
    "lst = insertBT(root)\n",
    "print_tree(lst)\n",
    "isBalanced_1(lst)"
   ]
  },
  {
   "cell_type": "code",
   "execution_count": 19,
   "metadata": {},
   "outputs": [
    {
     "name": "stdout",
     "output_type": "stream",
     "text": [
      "[1, 2, 3, 4, 5, 6, 'null', 8]\n",
      "Root:1\n",
      "    L--- 2\n",
      "        L--- 4\n",
      "            L--- 8\n",
      "        R--- 5\n",
      "    R--- 3\n",
      "        L--- 6\n"
     ]
    },
    {
     "data": {
      "text/plain": [
       "True"
      ]
     },
     "execution_count": 19,
     "metadata": {},
     "output_type": "execute_result"
    }
   ],
   "source": [
    "root = [1, 2, 3, 4, 5, 6, 'null', 8]\n",
    "print(root)\n",
    "lst = insertBT(root)\n",
    "print_tree(lst)\n",
    "isBalanced_1(lst)"
   ]
  }
 ],
 "metadata": {
  "kernelspec": {
   "display_name": "_imagesearchVenv",
   "language": "python",
   "name": "python3"
  },
  "language_info": {
   "codemirror_mode": {
    "name": "ipython",
    "version": 3
   },
   "file_extension": ".py",
   "mimetype": "text/x-python",
   "name": "python",
   "nbconvert_exporter": "python",
   "pygments_lexer": "ipython3",
   "version": "3.12.5"
  }
 },
 "nbformat": 4,
 "nbformat_minor": 2
}
