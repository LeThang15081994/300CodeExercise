{
 "cells": [
  {
   "cell_type": "markdown",
   "metadata": {},
   "source": [
    "Thuật toán tham lam"
   ]
  },
  {
   "cell_type": "code",
   "execution_count": 1,
   "metadata": {},
   "outputs": [],
   "source": [
    "# Khởi tạo hàm tìm giá trị lợi nhuận lớn nhất\n",
    "def find_maxprofit(data):\n",
    "    buy = data[0] # khởi tạo giá trị 'buy' ban đầu\n",
    "    maxprofit = 0 # khởi tạo giá trị maxprofit ban đầu\n",
    "\n",
    "    for idx  in range(1,len(data)):\n",
    "        if buy > data[idx]: # Kiểm tra giá trị hiện tại có nhỏ hơn giá \"buy\" không\n",
    "            buy = data[idx]\n",
    "        elif (data[idx] - buy) > maxprofit: # Kiểm tra giá trị maxprofit ở bước hiện tại\n",
    "            maxprofit = data[idx] - buy\n",
    "    return maxprofit"
   ]
  },
  {
   "cell_type": "code",
   "execution_count": 2,
   "metadata": {},
   "outputs": [
    {
     "name": "stdout",
     "output_type": "stream",
     "text": [
      "Max Profit = 5\n"
     ]
    }
   ],
   "source": [
    "lst1 = [7,1,5,3,6,4]\n",
    "print(f\"Max Profit = {find_maxprofit(lst1)}\")"
   ]
  },
  {
   "cell_type": "code",
   "execution_count": 3,
   "metadata": {},
   "outputs": [
    {
     "name": "stdout",
     "output_type": "stream",
     "text": [
      "Max Profit = 0\n"
     ]
    }
   ],
   "source": [
    "lst2 = [7,6,4,3,1]\n",
    "print(f\"Max Profit = {find_maxprofit(lst2)}\")"
   ]
  }
 ],
 "metadata": {
  "kernelspec": {
   "display_name": "Python 3",
   "language": "python",
   "name": "python3"
  },
  "language_info": {
   "codemirror_mode": {
    "name": "ipython",
    "version": 3
   },
   "file_extension": ".py",
   "mimetype": "text/x-python",
   "name": "python",
   "nbconvert_exporter": "python",
   "pygments_lexer": "ipython3",
   "version": "3.11.9"
  }
 },
 "nbformat": 4,
 "nbformat_minor": 2
}
