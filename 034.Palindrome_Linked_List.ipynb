{
 "cells": [
  {
   "cell_type": "markdown",
   "metadata": {},
   "source": [
    "Given the head of a singly linked list, return true if it is a palindrome or false otherwise.\n",
    "\n",
    "Follow up: Could you do it in O(n) time and O(1) space?"
   ]
  },
  {
   "cell_type": "code",
   "execution_count": 63,
   "metadata": {},
   "outputs": [],
   "source": [
    "class Node:\n",
    "    def __init__(self, value):\n",
    "        self.value = value  # Giá trị của nút\n",
    "        self.next = None    # Con trỏ đến nút tiếp theo"
   ]
  },
  {
   "cell_type": "code",
   "execution_count": 64,
   "metadata": {},
   "outputs": [],
   "source": [
    "class SinglyLinkedList:\n",
    "    def __init__(self):\n",
    "        self.head = None    # Khởi tạo head của danh sách liên kết đơn\n",
    "\n",
    "    def append(self, value):\n",
    "        new_node = Node(value)  # Tạo một nút mới\n",
    "\n",
    "        if not self.head:       # Nếu danh sách rỗng\n",
    "            self.head = new_node\n",
    "            return\n",
    "        \n",
    "        current = self.head\n",
    "\n",
    "        while current.next:     # Duyệt đến nút cuối cùng\n",
    "            current = current.next\n",
    "\n",
    "        current.next = new_node # Gán nút mới vào cuối danh sách\n",
    "\n",
    "    def print_list(self):\n",
    "        \"\"\" In ra danh sách liên kết cho đến khi gặp vòng lặp hoặc đạt giới hạn. \"\"\"\n",
    "        current = self.head\n",
    "\n",
    "        while current:\n",
    "            print(current.value, end=' -> ')\n",
    "            current = current.next\n",
    "        \n",
    "        print(\"NULL\")\n",
    "\n",
    "    def reverseList(self,head):\n",
    "        prev = None\n",
    "        current = head\n",
    "\n",
    "        while current:\n",
    "            next_node = current.next \n",
    "            current.next = prev\n",
    "            prev = current\n",
    "            current = next_node\n",
    "\n",
    "        return prev\n",
    "\n",
    "    def isPalindrome(self):\n",
    "        if not self.head: # kiểm tra link list có rỗng không\n",
    "            return False\n",
    "        \n",
    "        slow = self.head # gán giá trị slow\n",
    "        fast = self.head # gán giá trị fast\n",
    "\n",
    "        #/-----------------tìm điểm ở giữa cua link list\n",
    "        while fast and fast.next:\n",
    "            slow = slow.next    # tiến 1 bước\n",
    "            fast = fast.next.next # tiến 2 bước\n",
    "\n",
    "        #/-----------------------------in slow\n",
    "        original_head = self.head\n",
    "        self.head = slow\n",
    "        self.print_list()\n",
    "        self.head = original_head\n",
    "        #/---------------------------------------------------------\n",
    "        \n",
    "        slow = self.reverseList(slow)\n",
    "        fast = self.head\n",
    "\n",
    "        while slow:\n",
    "            if slow.value != fast.value:\n",
    "                return False\n",
    "            slow = slow.next\n",
    "            fast = fast.next\n",
    "\n",
    "        return True"
   ]
  },
  {
   "cell_type": "code",
   "execution_count": 65,
   "metadata": {},
   "outputs": [
    {
     "name": "stdout",
     "output_type": "stream",
     "text": [
      "1 -> 2 -> 2 -> 1 -> NULL\n",
      "2 -> 1 -> NULL\n"
     ]
    },
    {
     "data": {
      "text/plain": [
       "True"
      ]
     },
     "execution_count": 65,
     "metadata": {},
     "output_type": "execute_result"
    }
   ],
   "source": [
    "root = [1,2,2,1]\n",
    "link_list = SinglyLinkedList()\n",
    "for value in root:\n",
    "    link_list.append(value)\n",
    "link_list.print_list()\n",
    "link_list.isPalindrome()"
   ]
  },
  {
   "cell_type": "code",
   "execution_count": 66,
   "metadata": {},
   "outputs": [
    {
     "name": "stdout",
     "output_type": "stream",
     "text": [
      "1 -> 2 -> NULL\n",
      "2 -> NULL\n"
     ]
    },
    {
     "data": {
      "text/plain": [
       "False"
      ]
     },
     "execution_count": 66,
     "metadata": {},
     "output_type": "execute_result"
    }
   ],
   "source": [
    "root = [1,2]\n",
    "link_list = SinglyLinkedList()\n",
    "for value in root:\n",
    "    link_list.append(value)\n",
    "link_list.print_list()\n",
    "link_list.isPalindrome()"
   ]
  }
 ],
 "metadata": {
  "kernelspec": {
   "display_name": "_imagesearchVenv",
   "language": "python",
   "name": "python3"
  },
  "language_info": {
   "codemirror_mode": {
    "name": "ipython",
    "version": 3
   },
   "file_extension": ".py",
   "mimetype": "text/x-python",
   "name": "python",
   "nbconvert_exporter": "python",
   "pygments_lexer": "ipython3",
   "version": "3.12.5"
  }
 },
 "nbformat": 4,
 "nbformat_minor": 2
}
