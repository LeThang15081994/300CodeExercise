{
 "cells": [
  {
   "cell_type": "markdown",
   "metadata": {},
   "source": [
    "Given the head of a singly linked list, return true if it is a \n",
    "palindrome or false otherwise."
   ]
  },
  {
   "cell_type": "code",
   "execution_count": 1,
   "metadata": {},
   "outputs": [],
   "source": [
    "class Node:\n",
    "    def __init__(self, value):\n",
    "        self.value = value  # Giá trị của nút\n",
    "        self.next = None    # Con trỏ đến nút tiếp theo"
   ]
  },
  {
   "cell_type": "code",
   "execution_count": 2,
   "metadata": {},
   "outputs": [],
   "source": [
    "class SinglyLinkedList:\n",
    "    def __init__(self):\n",
    "        self.head = None    # Khởi tạo head của danh sách liên kết đơn\n",
    "\n",
    "    def append(self, value):\n",
    "        new_node = Node(value)  # Tạo một nút mới\n",
    "\n",
    "        if not self.head:       # Nếu danh sách rỗng\n",
    "            self.head = new_node\n",
    "            return\n",
    "        \n",
    "        current = self.head\n",
    "\n",
    "        while current.next:     # Duyệt đến nút cuối cùng\n",
    "            current = current.next\n",
    "\n",
    "        current.next = new_node # Gán nút mới vào cuối danh sách\n",
    "\n",
    "    def print_list(self, limit = 10):\n",
    "        \"\"\" In ra danh sách liên kết cho đến khi gặp vòng lặp hoặc đạt giới hạn. \"\"\"\n",
    "        current = self.head\n",
    "        count = 0\n",
    "        while current and count < limit:\n",
    "            print(current.value, end=' -> ')\n",
    "            current = current.next\n",
    "            count += 1\n",
    "        if current:\n",
    "            print(\"... (vòng lặp)\")\n",
    "        else:\n",
    "            print(\"None\")\n"
   ]
  },
  {
   "cell_type": "code",
   "execution_count": null,
   "metadata": {},
   "outputs": [],
   "source": [
    "def isPalindrome(head):\n",
    "    "
   ]
  },
  {
   "cell_type": "code",
   "execution_count": 4,
   "metadata": {},
   "outputs": [
    {
     "name": "stdout",
     "output_type": "stream",
     "text": [
      "1 -> 2 -> 2 -> 1 -> None\n"
     ]
    }
   ],
   "source": [
    "head = [1,2,2,1]\n",
    "link_list = SinglyLinkedList()\n",
    "for value in head:\n",
    "    link_list.append(value)\n",
    "link_list.print_list()"
   ]
  }
 ],
 "metadata": {
  "kernelspec": {
   "display_name": "_imagesearchVenv",
   "language": "python",
   "name": "python3"
  },
  "language_info": {
   "codemirror_mode": {
    "name": "ipython",
    "version": 3
   },
   "file_extension": ".py",
   "mimetype": "text/x-python",
   "name": "python",
   "nbconvert_exporter": "python",
   "pygments_lexer": "ipython3",
   "version": "3.12.5"
  }
 },
 "nbformat": 4,
 "nbformat_minor": 2
}
