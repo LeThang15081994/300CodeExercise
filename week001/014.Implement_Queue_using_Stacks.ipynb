{
 "cells": [
  {
   "cell_type": "markdown",
   "metadata": {},
   "source": [
    "Implement a first in first out (FIFO) queue using only two stacks. The implemented queue should support all the functions of a normal queue (push, peek, pop, and empty).\n",
    "Implement the MyQueue class:\n",
    "* void push(int x) Pushes element x to the back of the queue.\n",
    "* int pop() Removes the element from the front of the queue and returns it.\n",
    "* int peek() Returns the element at the front of the queue.\n",
    "* boolean empty() Returns true if the queue is empty, false otherwise.\n",
    "\n",
    "Note:\n",
    "* You must use only standard operations of a stack, which means only push to top, peek/pop from top, size, and is empty operations are valid.\n",
    "* Depending on your language, the stack may not be supported natively. You may simulate a stack using a list or deque (double-ended queue) as long as you use only a stack's standard operations."
   ]
  },
  {
   "cell_type": "code",
   "execution_count": 13,
   "metadata": {},
   "outputs": [],
   "source": [
    "class MyQueue:\n",
    "\n",
    "    def __init__(self):\n",
    "        self.stack = []\n",
    "\n",
    "    def push(self, x: int) -> None:\n",
    "        \"\"\" thêm phần tử x vào cuối hàng đợi. \"\"\"\n",
    "        self.stack.append(x)\n",
    "\n",
    "    def pop(self) -> int:\n",
    "        \"\"\" Xóa phần tử ở đầu hàng đợi và trả về phần tử đó. \"\"\"\n",
    "        val = self.stack[0]\n",
    "        if len(self.stack) > 0:\n",
    "            self.stack = self.stack[1:]\n",
    "        return val\n",
    "\n",
    "    def peek(self) -> int:\n",
    "        \"\"\" Lấy phần tử ở đầu hàng đợi. \"\"\"\n",
    "        return self.stack[0]\n",
    "\n",
    "    def empty(self) -> bool:\n",
    "        \"\"\"kiểm tra hàng đợi có rỗng hay không\"\"\"\n",
    "        return len(self.stack)==0\n",
    "    \n",
    "    def print_queue(self):\n",
    "        print(self.stack[::-1])"
   ]
  },
  {
   "cell_type": "code",
   "execution_count": 16,
   "metadata": {},
   "outputs": [],
   "source": [
    "obj = MyQueue()"
   ]
  },
  {
   "cell_type": "code",
   "execution_count": 17,
   "metadata": {},
   "outputs": [
    {
     "name": "stdout",
     "output_type": "stream",
     "text": [
      "[2, 1]\n"
     ]
    }
   ],
   "source": [
    "obj.push(1)\n",
    "obj.push(2)\n",
    "obj.print_queue()\n"
   ]
  },
  {
   "cell_type": "code",
   "execution_count": 20,
   "metadata": {},
   "outputs": [
    {
     "name": "stdout",
     "output_type": "stream",
     "text": [
      "1\n",
      "[2, 1]\n"
     ]
    }
   ],
   "source": [
    "print(obj.peek())\n",
    "obj.print_queue()"
   ]
  },
  {
   "cell_type": "code",
   "execution_count": 21,
   "metadata": {},
   "outputs": [
    {
     "name": "stdout",
     "output_type": "stream",
     "text": [
      "1\n",
      "[2]\n"
     ]
    }
   ],
   "source": [
    "print(obj.pop())\n",
    "obj.print_queue()"
   ]
  },
  {
   "cell_type": "code",
   "execution_count": 22,
   "metadata": {},
   "outputs": [
    {
     "data": {
      "text/plain": [
       "False"
      ]
     },
     "execution_count": 22,
     "metadata": {},
     "output_type": "execute_result"
    }
   ],
   "source": [
    "obj.empty()"
   ]
  }
 ],
 "metadata": {
  "kernelspec": {
   "display_name": "_imagesearchVenv",
   "language": "python",
   "name": "python3"
  },
  "language_info": {
   "codemirror_mode": {
    "name": "ipython",
    "version": 3
   },
   "file_extension": ".py",
   "mimetype": "text/x-python",
   "name": "python",
   "nbconvert_exporter": "python",
   "pygments_lexer": "ipython3",
   "version": "3.12.5"
  }
 },
 "nbformat": 4,
 "nbformat_minor": 2
}
