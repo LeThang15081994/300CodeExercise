{
 "cells": [
  {
   "cell_type": "markdown",
   "metadata": {},
   "source": [
    "Given the roots of two binary trees root and subRoot, return true if there is a subtree of root with the same structure and node values of subRoot and false otherwise.\n",
    "\n",
    "A subtree of a binary tree tree is a tree that consists of a node in tree and all of this node's descendants. The tree tree could also be considered as a subtree of itself."
   ]
  },
  {
   "cell_type": "code",
   "execution_count": 15,
   "metadata": {},
   "outputs": [],
   "source": [
    "#/-------------------------Cấu trúc Node-------------------------\n",
    "class TreeNode:\n",
    "    def __init__(self, value = 0):\n",
    "        self.value = value\n",
    "        self.left = None\n",
    "        self.right = None"
   ]
  },
  {
   "cell_type": "code",
   "execution_count": 16,
   "metadata": {},
   "outputs": [],
   "source": [
    "def insertBinaryTree(arr, index = 0):\n",
    "    if index >= len(arr) or arr[index] is None:\n",
    "        return None\n",
    "    \n",
    "    current = TreeNode(arr[index])\n",
    "\n",
    "    current.left = insertBinaryTree(arr, 2 * index + 1)\n",
    "    current.right = insertBinaryTree(arr, 2 * index + 2)\n",
    "\n",
    "    return current"
   ]
  },
  {
   "cell_type": "code",
   "execution_count": 17,
   "metadata": {},
   "outputs": [],
   "source": [
    "def print_tree(node, level=0, prefix=\"Root:\"):\n",
    "    if node is not None:\n",
    "        print(\" \" * (level * 4) + prefix + str(node.value))\n",
    "        print_tree(node.left, level + 1, prefix=\"L--- \")\n",
    "        print_tree(node.right, level + 1, prefix=\"R--- \")"
   ]
  },
  {
   "cell_type": "code",
   "execution_count": 18,
   "metadata": {},
   "outputs": [],
   "source": [
    "def isSame(root, subRoot):\n",
    "    stack = [(root, subRoot)]\n",
    "\n",
    "    while stack:\n",
    "        current_root , current_subRoot = stack.pop()\n",
    "\n",
    "        if not current_root and not current_subRoot:   # Nếu cả hai nút đều rỗng, tiếp tục\n",
    "            continue\n",
    "\n",
    "        if not current_root or not current_subRoot:  # Nếu một trong hai nút rỗng nhưng nút kia không rỗng, hai cây không giống nhau\n",
    "            return False\n",
    "        \n",
    "        if current_root.value != current_subRoot.value:  # Nếu giá trị nút không giống nhau, hai cây không giống nhau\n",
    "            return False\n",
    "        \n",
    "         # Thêm các nút con vào ngăn xếp (thứ tự thêm để xử lý đúng thứ tự)\n",
    "        stack.append((current_root.left, current_subRoot.left))\n",
    "        stack.append((current_root.right, current_subRoot.right))\n",
    "\n",
    "    return True"
   ]
  },
  {
   "cell_type": "code",
   "execution_count": 19,
   "metadata": {},
   "outputs": [],
   "source": [
    "def isSubTree_DFS(root, subRoot):\n",
    "    if not root:\n",
    "        return False\n",
    "    if not subRoot:\n",
    "        return True\n",
    "    \n",
    "    stack = [root] # Khởi tạo ngăn xếp với nút gốc\n",
    "    while stack:\n",
    "        current = stack.pop()  #Lấy nút trên cùng của ngăn xếp\n",
    "\n",
    "        if current.value == subRoot.value: # Nếu giá trị nút hiện tại giống với giá trị của nút gốc của cây con\n",
    "            if isSame(current,subRoot):     # Kiểm tra xem hai cây có giống nhau không\n",
    "                return True\n",
    "        \n",
    "        # Thêm các nút con vào hàng đợi\n",
    "        if current.left:\n",
    "            stack.append(current.left)\n",
    "\n",
    "        if current.right:\n",
    "            stack.append(current.right)\n",
    "\n",
    "    return False"
   ]
  },
  {
   "cell_type": "code",
   "execution_count": 20,
   "metadata": {},
   "outputs": [
    {
     "name": "stdout",
     "output_type": "stream",
     "text": [
      "Root:3\n",
      "    L--- 4\n",
      "        L--- 1\n",
      "        R--- 2\n",
      "    R--- 5\n",
      "Root:4\n",
      "    L--- 1\n",
      "    R--- 2\n"
     ]
    },
    {
     "data": {
      "text/plain": [
       "True"
      ]
     },
     "execution_count": 20,
     "metadata": {},
     "output_type": "execute_result"
    }
   ],
   "source": [
    "root = [3,4,5,1,2]\n",
    "subRoot = [4,1,2]\n",
    "\n",
    "Root = insertBinaryTree(root)\n",
    "SubRoot= insertBinaryTree(subRoot)\n",
    "\n",
    "print_tree(Root)\n",
    "print_tree(SubRoot)\n",
    "isSubTree_DFS(Root,SubRoot)"
   ]
  },
  {
   "cell_type": "code",
   "execution_count": 21,
   "metadata": {},
   "outputs": [
    {
     "name": "stdout",
     "output_type": "stream",
     "text": [
      "Root:3\n",
      "    L--- 4\n",
      "        L--- 1\n",
      "        R--- 2\n",
      "            L--- 0\n",
      "    R--- 5\n",
      "Root:4\n",
      "    L--- 1\n",
      "    R--- 2\n"
     ]
    },
    {
     "data": {
      "text/plain": [
       "False"
      ]
     },
     "execution_count": 21,
     "metadata": {},
     "output_type": "execute_result"
    }
   ],
   "source": [
    "root = [3,4,5,1,2,None,None,None,None,0]\n",
    "subRoot = [4,1,2]\n",
    "\n",
    "Root = insertBinaryTree(root)\n",
    "SubRoot= insertBinaryTree(subRoot)\n",
    "\n",
    "print_tree(Root)\n",
    "print_tree(SubRoot)\n",
    "\n",
    "isSubTree_DFS(Root,SubRoot)"
   ]
  },
  {
   "cell_type": "code",
   "execution_count": 22,
   "metadata": {},
   "outputs": [
    {
     "name": "stdout",
     "output_type": "stream",
     "text": [
      "Root:12\n",
      "Root:2\n"
     ]
    },
    {
     "data": {
      "text/plain": [
       "False"
      ]
     },
     "execution_count": 22,
     "metadata": {},
     "output_type": "execute_result"
    }
   ],
   "source": [
    "root = [12]\n",
    "subRoot = [2]\n",
    "\n",
    "Root = insertBinaryTree(root)\n",
    "SubRoot= insertBinaryTree(subRoot)\n",
    "\n",
    "print_tree(Root)\n",
    "print_tree(SubRoot)\n",
    "\n",
    "isSubTree_DFS(Root,SubRoot)\n"
   ]
  }
 ],
 "metadata": {
  "kernelspec": {
   "display_name": "_imagesearchVenv",
   "language": "python",
   "name": "python3"
  },
  "language_info": {
   "codemirror_mode": {
    "name": "ipython",
    "version": 3
   },
   "file_extension": ".py",
   "mimetype": "text/x-python",
   "name": "python",
   "nbconvert_exporter": "python",
   "pygments_lexer": "ipython3",
   "version": "3.12.5"
  }
 },
 "nbformat": 4,
 "nbformat_minor": 2
}
