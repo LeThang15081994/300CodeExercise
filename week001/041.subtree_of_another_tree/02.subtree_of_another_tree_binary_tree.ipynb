{
 "cells": [
  {
   "cell_type": "markdown",
   "metadata": {},
   "source": [
    "Given the roots of two binary trees root and subRoot, return true if there is a subtree of root with the same structure and node values of subRoot and false otherwise.\n",
    "\n",
    "A subtree of a binary tree tree is a tree that consists of a node in tree and all of this node's descendants. The tree tree could also be considered as a subtree of itself."
   ]
  },
  {
   "cell_type": "code",
   "execution_count": 12,
   "metadata": {},
   "outputs": [],
   "source": [
    "#/-------------------------Cấu trúc Node-------------------------\n",
    "class TreeNode:\n",
    "    def __init__(self, value = 0):\n",
    "        self.value = value\n",
    "        self.left = None\n",
    "        self.right = None\n",
    "        "
   ]
  },
  {
   "cell_type": "code",
   "execution_count": 13,
   "metadata": {},
   "outputs": [],
   "source": [
    "def insertBinaryTree(arr, index = 0):\n",
    "    if index >= len(arr) or arr[index] is None:\n",
    "        return None\n",
    "    \n",
    "    current = TreeNode(arr[index])\n",
    "\n",
    "    current.left = insertBinaryTree(arr, 2 * index + 1)\n",
    "    current.right = insertBinaryTree(arr, 2 * index + 2)\n",
    "\n",
    "    return current\n"
   ]
  },
  {
   "cell_type": "code",
   "execution_count": 14,
   "metadata": {},
   "outputs": [],
   "source": [
    "def print_tree(node, level=0, prefix=\"Root:\"):\n",
    "    if node is not None:\n",
    "        print(\" \" * (level * 4) + prefix + str(node.value))\n",
    "        print_tree(node.left, level + 1, prefix=\"L--- \")\n",
    "        print_tree(node.right, level + 1, prefix=\"R--- \")"
   ]
  },
  {
   "cell_type": "code",
   "execution_count": 15,
   "metadata": {},
   "outputs": [],
   "source": [
    "def isSame(root, subRoot):\n",
    "    if not root and not subRoot:  # Nếu cả hai cây đều rỗng, chúng là giống nhau\n",
    "        return True\n",
    "    if not root or not subRoot:   # Nếu một trong hai cây rỗng, còn cây kia không, chúng không giống nhau\n",
    "        return False\n",
    "    \n",
    "    return (root.value == subRoot.value) and isSame(root.left, subRoot.left) and isSame(root.right, subRoot.right)  # Kiểm tra giá trị của nút"
   ]
  },
  {
   "cell_type": "code",
   "execution_count": 16,
   "metadata": {},
   "outputs": [],
   "source": [
    "def isSubTree(root, subRoot):\n",
    "    if not root:    # Nếu cây gốc rỗng, nhưng cây con không rỗng, thì cây con không thể là cây con\n",
    "        return False\n",
    "    \n",
    "    if not subRoot: # Nếu cây con rỗng, thì nó luôn là cây con\n",
    "        return True\n",
    "    \n",
    "    return isSame(root, subRoot) or isSubTree(root.left, subRoot) or isSubTree(root.right, subRoot)\n",
    "    \n"
   ]
  },
  {
   "cell_type": "code",
   "execution_count": 19,
   "metadata": {},
   "outputs": [
    {
     "name": "stdout",
     "output_type": "stream",
     "text": [
      "Root:3\n",
      "    L--- 4\n",
      "        L--- 1\n",
      "        R--- 2\n",
      "    R--- 5\n",
      "Root:4\n",
      "    L--- 1\n",
      "    R--- 2\n"
     ]
    },
    {
     "data": {
      "text/plain": [
       "True"
      ]
     },
     "execution_count": 19,
     "metadata": {},
     "output_type": "execute_result"
    }
   ],
   "source": [
    "root = [3,4,5,1,2]\n",
    "subRoot = [4,1,2]\n",
    "\n",
    "Root = insertBinaryTree(root)\n",
    "SubRoot= insertBinaryTree(subRoot)\n",
    "\n",
    "print_tree(Root)\n",
    "print_tree(SubRoot)\n",
    "\n",
    "isSubTree(Root,SubRoot)"
   ]
  },
  {
   "cell_type": "code",
   "execution_count": 20,
   "metadata": {},
   "outputs": [
    {
     "name": "stdout",
     "output_type": "stream",
     "text": [
      "Root:3\n",
      "    L--- 4\n",
      "        L--- 1\n",
      "        R--- 2\n",
      "            L--- 0\n",
      "    R--- 5\n",
      "Root:4\n",
      "    L--- 1\n",
      "    R--- 2\n"
     ]
    },
    {
     "data": {
      "text/plain": [
       "False"
      ]
     },
     "execution_count": 20,
     "metadata": {},
     "output_type": "execute_result"
    }
   ],
   "source": [
    "root = [3,4,5,1,2,None,None,None,None,0]\n",
    "subRoot = [4,1,2]\n",
    "\n",
    "Root = insertBinaryTree(root)\n",
    "SubRoot= insertBinaryTree(subRoot)\n",
    "\n",
    "print_tree(Root)\n",
    "print_tree(SubRoot)\n",
    "\n",
    "isSubTree(Root,SubRoot)"
   ]
  },
  {
   "cell_type": "code",
   "execution_count": 21,
   "metadata": {},
   "outputs": [
    {
     "name": "stdout",
     "output_type": "stream",
     "text": [
      "Root:12\n",
      "Root:2\n"
     ]
    },
    {
     "data": {
      "text/plain": [
       "False"
      ]
     },
     "execution_count": 21,
     "metadata": {},
     "output_type": "execute_result"
    }
   ],
   "source": [
    "root = [12]\n",
    "subRoot = [2]\n",
    "\n",
    "Root = insertBinaryTree(root)\n",
    "SubRoot= insertBinaryTree(subRoot)\n",
    "\n",
    "print_tree(Root)\n",
    "print_tree(SubRoot)\n",
    "\n",
    "isSubTree(Root,SubRoot)"
   ]
  }
 ],
 "metadata": {
  "kernelspec": {
   "display_name": "_imagesearchVenv",
   "language": "python",
   "name": "python3"
  },
  "language_info": {
   "codemirror_mode": {
    "name": "ipython",
    "version": 3
   },
   "file_extension": ".py",
   "mimetype": "text/x-python",
   "name": "python",
   "nbconvert_exporter": "python",
   "pygments_lexer": "ipython3",
   "version": "3.12.5"
  }
 },
 "nbformat": 4,
 "nbformat_minor": 2
}
