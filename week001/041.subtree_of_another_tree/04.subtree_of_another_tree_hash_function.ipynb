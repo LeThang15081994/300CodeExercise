{
 "cells": [
  {
   "cell_type": "markdown",
   "metadata": {},
   "source": [
    "Given the roots of two binary trees root and subRoot, return true if there is a subtree of root with the same structure and node values of subRoot and false otherwise.\n",
    "\n",
    "A subtree of a binary tree tree is a tree that consists of a node in tree and all of this node's descendants. The tree tree could also be considered as a subtree of itself."
   ]
  },
  {
   "cell_type": "code",
   "execution_count": 59,
   "metadata": {},
   "outputs": [],
   "source": [
    "#/-------------------------Cấu trúc Node-------------------------\n",
    "class TreeNode:\n",
    "    def __init__(self, value = 0):\n",
    "        self.value = value\n",
    "        self.left = None\n",
    "        self.right = None"
   ]
  },
  {
   "cell_type": "code",
   "execution_count": 60,
   "metadata": {},
   "outputs": [],
   "source": [
    "def insertBinaryTree(arr, index = 0): # chuyển arr thành một treenode\n",
    "    if index >= len(arr) or arr[index] is None:\n",
    "        return None\n",
    "    \n",
    "    current = TreeNode(arr[index])\n",
    "\n",
    "    current.left = insertBinaryTree(arr, 2 * index + 1)\n",
    "    current.right = insertBinaryTree(arr, 2 * index + 2)\n",
    "\n",
    "    return current"
   ]
  },
  {
   "cell_type": "code",
   "execution_count": 61,
   "metadata": {},
   "outputs": [],
   "source": [
    "def print_tree(node, level=0, prefix=\"Root:\"):\n",
    "    if node is not None:\n",
    "        print(\" \" * (level * 4) + prefix + str(node.value))\n",
    "        print_tree(node.left, level + 1, prefix=\"L--- \")\n",
    "        print_tree(node.right, level + 1, prefix=\"R--- \")"
   ]
  },
  {
   "cell_type": "code",
   "execution_count": 62,
   "metadata": {},
   "outputs": [],
   "source": [
    "def hashFunction(root): # chuyển treenode thành chuỗi\n",
    "    if not root:\n",
    "        return 0\n",
    "    \n",
    "    return root.value + hashFunction(root.left) * 31 + hashFunction(root.right) * 17     # Kết hợp giá trị của nút và giá trị băm của các nút con"
   ]
  },
  {
   "cell_type": "code",
   "execution_count": 63,
   "metadata": {},
   "outputs": [],
   "source": [
    "def isSame(root,subRoot):\n",
    "    \"\"\"Kiểm tra xem hai cây có giống nhau không.\"\"\"\n",
    "    if not root and not subRoot:\n",
    "        return True\n",
    "    \n",
    "    if not root or not subRoot:\n",
    "        return False\n",
    "    \n",
    "    return root.value == subRoot.value and isSame(root.left,subRoot.left) and isSame(root.right,subRoot.right)"
   ]
  },
  {
   "cell_type": "code",
   "execution_count": 64,
   "metadata": {},
   "outputs": [],
   "source": [
    "def isSubTree(root, subRoot):\n",
    "    if not root: # kiểm tra cây gốc có rỗng không\n",
    "        return False\n",
    "    \n",
    "    if not subRoot: # Nếu cây con rỗng\n",
    "        return True\n",
    "    \n",
    "    # Tính giá trị băm cho cây gốc và cây con\n",
    "    if hashFunction(root) == hashFunction(subRoot):\n",
    "        return isSame(root, subRoot) \n",
    "    \n",
    "    return isSubTree(root.left,subRoot) or isSubTree(root.right, subRoot)"
   ]
  },
  {
   "cell_type": "code",
   "execution_count": 65,
   "metadata": {},
   "outputs": [
    {
     "name": "stdout",
     "output_type": "stream",
     "text": [
      "Root:3\n",
      "    L--- 4\n",
      "        L--- 1\n",
      "        R--- 2\n",
      "    R--- 5\n",
      "Root:4\n",
      "    L--- 1\n",
      "    R--- 2\n"
     ]
    },
    {
     "data": {
      "text/plain": [
       "True"
      ]
     },
     "execution_count": 65,
     "metadata": {},
     "output_type": "execute_result"
    }
   ],
   "source": [
    "root = [3,4,5,1,2]\n",
    "subRoot = [4,1,2]\n",
    "\n",
    "Root = insertBinaryTree(root)\n",
    "SubRoot= insertBinaryTree(subRoot)\n",
    "\n",
    "print_tree(Root)\n",
    "print_tree(SubRoot)\n",
    "\n",
    "isSubTree(Root,SubRoot)"
   ]
  },
  {
   "cell_type": "code",
   "execution_count": 66,
   "metadata": {},
   "outputs": [
    {
     "name": "stdout",
     "output_type": "stream",
     "text": [
      "Root:3\n",
      "    L--- 4\n",
      "        L--- 1\n",
      "        R--- 2\n",
      "            L--- 0\n",
      "    R--- 5\n",
      "Root:4\n",
      "    L--- 1\n",
      "    R--- 2\n"
     ]
    },
    {
     "data": {
      "text/plain": [
       "False"
      ]
     },
     "execution_count": 66,
     "metadata": {},
     "output_type": "execute_result"
    }
   ],
   "source": [
    "root = [3,4,5,1,2,None,None,None,None,0]\n",
    "subRoot = [4,1,2]\n",
    "\n",
    "Root = insertBinaryTree(root)\n",
    "SubRoot= insertBinaryTree(subRoot)\n",
    "\n",
    "print_tree(Root)\n",
    "print_tree(SubRoot)\n",
    "\n",
    "isSubTree(Root,SubRoot)"
   ]
  },
  {
   "cell_type": "code",
   "execution_count": 67,
   "metadata": {},
   "outputs": [
    {
     "name": "stdout",
     "output_type": "stream",
     "text": [
      "Root:12\n",
      "Root:2\n"
     ]
    },
    {
     "data": {
      "text/plain": [
       "False"
      ]
     },
     "execution_count": 67,
     "metadata": {},
     "output_type": "execute_result"
    }
   ],
   "source": [
    "root = [12]\n",
    "subRoot = [2]\n",
    "\n",
    "Root = insertBinaryTree(root)\n",
    "SubRoot= insertBinaryTree(subRoot)\n",
    "\n",
    "print_tree(Root)\n",
    "print_tree(SubRoot)\n",
    "\n",
    "isSubTree(Root,SubRoot)"
   ]
  },
  {
   "cell_type": "code",
   "execution_count": 68,
   "metadata": {},
   "outputs": [
    {
     "name": "stdout",
     "output_type": "stream",
     "text": [
      "Root:1\n",
      "    R--- 1\n",
      "        R--- 1\n",
      "            R--- 1\n",
      "Root:1\n",
      "    R--- 1\n",
      "        R--- 1\n"
     ]
    },
    {
     "data": {
      "text/plain": [
       "True"
      ]
     },
     "execution_count": 68,
     "metadata": {},
     "output_type": "execute_result"
    }
   ],
   "source": [
    "root = [1,None,1,None,1,None,1,None,1,None,1,None,1,None,1,None,1,None,1,None,1,2]\n",
    "subRoot = [1,None,1,None,1,None,1,None,1,None,1,2]\n",
    "\n",
    "Root = insertBinaryTree(root)\n",
    "SubRoot= insertBinaryTree(subRoot)\n",
    "\n",
    "print_tree(Root)\n",
    "print_tree(SubRoot)\n",
    "\n",
    "isSubTree(Root,SubRoot)"
   ]
  }
 ],
 "metadata": {
  "kernelspec": {
   "display_name": "_imagesearchVenv",
   "language": "python",
   "name": "python3"
  },
  "language_info": {
   "codemirror_mode": {
    "name": "ipython",
    "version": 3
   },
   "file_extension": ".py",
   "mimetype": "text/x-python",
   "name": "python",
   "nbconvert_exporter": "python",
   "pygments_lexer": "ipython3",
   "version": "3.12.5"
  }
 },
 "nbformat": 4,
 "nbformat_minor": 2
}
