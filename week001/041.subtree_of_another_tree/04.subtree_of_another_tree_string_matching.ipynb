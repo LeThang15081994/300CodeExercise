{
 "cells": [
  {
   "cell_type": "markdown",
   "metadata": {},
   "source": [
    "Given the roots of two binary trees root and subRoot, return true if there is a subtree of root with the same structure and node values of subRoot and false otherwise.\n",
    "\n",
    "A subtree of a binary tree tree is a tree that consists of a node in tree and all of this node's descendants. The tree tree could also be considered as a subtree of itself."
   ]
  },
  {
   "cell_type": "code",
   "execution_count": 78,
   "metadata": {},
   "outputs": [],
   "source": [
    "class TreeNode:\n",
    "    def __init__(self, value):\n",
    "        self.value = value\n",
    "        self.left = None\n",
    "        self.right = None"
   ]
  },
  {
   "cell_type": "code",
   "execution_count": 79,
   "metadata": {},
   "outputs": [],
   "source": [
    "def insertBinaryTree(arr, index = 0):\n",
    "    if index >= len(arr) or arr[index] is None: # điều kiện dừng của đệ quy\n",
    "        return None\n",
    "    \n",
    "    current = TreeNode(arr[index])\n",
    "    \n",
    "    current.left = insertBinaryTree(arr, 2 * index + 1) # gán giá trị bên trái\n",
    "    current.right = insertBinaryTree(arr, 2 * index + 2) # gán giá trị bên phải\n",
    "    \n",
    "    return current"
   ]
  },
  {
   "cell_type": "code",
   "execution_count": 80,
   "metadata": {},
   "outputs": [],
   "source": [
    "def print_tree(node, level=0, prefix=\"Root:\"):\n",
    "    if node is not None:\n",
    "        print(\" \" * (level * 4) + prefix + str(node.value))\n",
    "        print_tree(node.left, level + 1, prefix=\"L--- \")\n",
    "        print_tree(node.right, level + 1, prefix=\"R--- \")"
   ]
  },
  {
   "cell_type": "code",
   "execution_count": 106,
   "metadata": {},
   "outputs": [],
   "source": [
    "def convertToString(root): # chuyển đổi tree sang string\n",
    "    if not root:\n",
    "        return 'None'\n",
    "    \n",
    "    return f'#{root.value} {convertToString(root.left)} {convertToString(root.right)}'"
   ]
  },
  {
   "cell_type": "markdown",
   "metadata": {},
   "source": [
    "---------------------------------------------------------------------------------------- Thuật toán  Brute Force -------------------------------------------------------------------------------------------"
   ]
  },
  {
   "cell_type": "code",
   "execution_count": 114,
   "metadata": {},
   "outputs": [],
   "source": [
    "def isSubTree_BruteForce(root, subRoot):\n",
    "    strRoot = convertToString(root)\n",
    "    strSubRoot = convertToString(subRoot)\n",
    "    \n",
    "    len_strRoot = len(strRoot)\n",
    "    len_subRoot = len(strSubRoot)\n",
    "\n",
    "    if len_subRoot > len_strRoot:\n",
    "        return False\n",
    "    \n",
    "    for i in range (len_strRoot - len_subRoot + 1):\n",
    "        if strRoot[i:i+len_subRoot] == strSubRoot:\n",
    "            return True\n",
    "        \n",
    "    return False"
   ]
  },
  {
   "cell_type": "code",
   "execution_count": 119,
   "metadata": {},
   "outputs": [],
   "source": [
    "#/---------------------------------------------------------------------------------- Sử dụng in ------------------------------------------------------------------------------------ \n",
    "def isSubTree_inRoot(root, subRoot):\n",
    "    strRoot = convertToString(root)\n",
    "    strSubRoot = convertToString(subRoot)\n",
    "    \n",
    "    if strSubRoot in strRoot:\n",
    "        return True\n",
    "    \n",
    "    return False\n",
    "\n",
    "#/-----------------------------------------------------------------------------------------------------------------------------------------------------------------------------------"
   ]
  },
  {
   "cell_type": "code",
   "execution_count": 115,
   "metadata": {},
   "outputs": [
    {
     "name": "stdout",
     "output_type": "stream",
     "text": [
      "Root:3\n",
      "    L--- 4\n",
      "        L--- 1\n",
      "        R--- 2\n",
      "    R--- 5\n",
      "Root:4\n",
      "    L--- 1\n",
      "    R--- 2\n"
     ]
    },
    {
     "data": {
      "text/plain": [
       "True"
      ]
     },
     "execution_count": 115,
     "metadata": {},
     "output_type": "execute_result"
    }
   ],
   "source": [
    "root = [3,4,5,1,2]\n",
    "subRoot = [4,1,2]\n",
    "\n",
    "Root = insertBinaryTree(root)\n",
    "SubRoot= insertBinaryTree(subRoot)\n",
    "\n",
    "print_tree(Root)\n",
    "print_tree(SubRoot)\n",
    "\n",
    "isSubTree_BruteForce(Root, SubRoot)"
   ]
  },
  {
   "cell_type": "code",
   "execution_count": 116,
   "metadata": {},
   "outputs": [
    {
     "name": "stdout",
     "output_type": "stream",
     "text": [
      "Root:3\n",
      "    L--- 4\n",
      "        L--- 1\n",
      "        R--- 2\n",
      "            L--- 0\n",
      "    R--- 5\n",
      "Root:4\n",
      "    L--- 1\n",
      "    R--- 2\n"
     ]
    },
    {
     "data": {
      "text/plain": [
       "False"
      ]
     },
     "execution_count": 116,
     "metadata": {},
     "output_type": "execute_result"
    }
   ],
   "source": [
    "root = [3,4,5,1,2,None,None,None,None,0]\n",
    "subRoot = [4,1,2]\n",
    "\n",
    "\n",
    "Root = insertBinaryTree(root)\n",
    "SubRoot= insertBinaryTree(subRoot)\n",
    "\n",
    "print_tree(Root)\n",
    "print_tree(SubRoot)\n",
    "\n",
    "isSubTree_BruteForce(Root, SubRoot)"
   ]
  },
  {
   "cell_type": "code",
   "execution_count": 117,
   "metadata": {},
   "outputs": [
    {
     "name": "stdout",
     "output_type": "stream",
     "text": [
      "Root:12\n",
      "Root:2\n"
     ]
    },
    {
     "data": {
      "text/plain": [
       "False"
      ]
     },
     "execution_count": 117,
     "metadata": {},
     "output_type": "execute_result"
    }
   ],
   "source": [
    "root = [12]\n",
    "subRoot = [2]\n",
    "\n",
    "\n",
    "Root = insertBinaryTree(root)\n",
    "SubRoot= insertBinaryTree(subRoot)\n",
    "\n",
    "print_tree(Root)\n",
    "print_tree(SubRoot)\n",
    "\n",
    "isSubTree_BruteForce(Root, SubRoot)"
   ]
  },
  {
   "cell_type": "markdown",
   "metadata": {},
   "source": [
    "---------------------------------------------------------------------------------------- Thuật toán Knuth Morris Pratt (KMP) -------------------------------------------------------------------------------------------"
   ]
  },
  {
   "cell_type": "code",
   "execution_count": null,
   "metadata": {},
   "outputs": [],
   "source": [
    "def isSubTree_KMP(root, subRoot):\n"
   ]
  }
 ],
 "metadata": {
  "kernelspec": {
   "display_name": "_imagesearchVenv",
   "language": "python",
   "name": "python3"
  },
  "language_info": {
   "codemirror_mode": {
    "name": "ipython",
    "version": 3
   },
   "file_extension": ".py",
   "mimetype": "text/x-python",
   "name": "python",
   "nbconvert_exporter": "python",
   "pygments_lexer": "ipython3",
   "version": "3.12.5"
  }
 },
 "nbformat": 4,
 "nbformat_minor": 2
}
