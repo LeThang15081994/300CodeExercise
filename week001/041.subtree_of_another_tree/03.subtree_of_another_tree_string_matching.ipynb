{
 "cells": [
  {
   "cell_type": "markdown",
   "metadata": {},
   "source": [
    "Given the roots of two binary trees root and subRoot, return true if there is a subtree of root with the same structure and node values of subRoot and false otherwise.\n",
    "\n",
    "A subtree of a binary tree tree is a tree that consists of a node in tree and all of this node's descendants. The tree tree could also be considered as a subtree of itself."
   ]
  },
  {
   "cell_type": "code",
   "execution_count": 12,
   "metadata": {},
   "outputs": [],
   "source": [
    "class TreeNode:\n",
    "    def __init__(self, value):\n",
    "        self.value = value\n",
    "        self.left = None\n",
    "        self.right = None"
   ]
  },
  {
   "cell_type": "code",
   "execution_count": 13,
   "metadata": {},
   "outputs": [],
   "source": [
    "def insertBinaryTree(arr, index = 0):\n",
    "    if index >= len(arr) or arr[index] is None: # điều kiện dừng của đệ quy\n",
    "        return None\n",
    "    \n",
    "    current = TreeNode(arr[index])\n",
    "    \n",
    "    current.left = insertBinaryTree(arr, 2 * index + 1) # gán giá trị bên trái\n",
    "    current.right = insertBinaryTree(arr, 2 * index + 2) # gán giá trị bên phải\n",
    "    \n",
    "    return current"
   ]
  },
  {
   "cell_type": "code",
   "execution_count": 14,
   "metadata": {},
   "outputs": [],
   "source": [
    "def print_tree(node, level=0, prefix=\"Root:\"):\n",
    "    if node is not None:\n",
    "        print(\" \" * (level * 4) + prefix + str(node.value))\n",
    "        print_tree(node.left, level + 1, prefix=\"L--- \")\n",
    "        print_tree(node.right, level + 1, prefix=\"R--- \")"
   ]
  },
  {
   "cell_type": "code",
   "execution_count": 15,
   "metadata": {},
   "outputs": [],
   "source": [
    "def convertToString(root): # chuyển đổi tree sang string\n",
    "    if not root:\n",
    "        return 'None'\n",
    "    \n",
    "    return f'#{root.value} {convertToString(root.left)} {convertToString(root.right)}' # gán thêm '$' để phân biệt giá trị tại node"
   ]
  },
  {
   "cell_type": "markdown",
   "metadata": {},
   "source": [
    "---------------------------------------------- Thuật toán  Brute Force ---------------------------------------------"
   ]
  },
  {
   "cell_type": "code",
   "execution_count": 16,
   "metadata": {},
   "outputs": [],
   "source": [
    "def isSubTree_BruteForce(root, subRoot):\n",
    "    strRoot = convertToString(root) # chuyển treenode sang chuỗi\n",
    "    strSubRoot = convertToString(subRoot) # chuyển treenode sang chuỗi\n",
    "    \n",
    "    len_strRoot = len(strRoot) # Lấy chiều dài chuỗi\n",
    "    len_subRoot = len(strSubRoot)\n",
    "\n",
    "    if len_subRoot > len_strRoot: # kiểm tra chiều dài chuỗi sub có lớn hơn chuối gốc không\n",
    "        return False\n",
    "    \n",
    "    for i in range (len_strRoot - len_subRoot + 1): # Kiểm tra từng vị trí trong chuỗi gốc\n",
    "        if strRoot[i:i+len_subRoot] == strSubRoot:\n",
    "            return True\n",
    "        \n",
    "    return False"
   ]
  },
  {
   "cell_type": "code",
   "execution_count": 17,
   "metadata": {},
   "outputs": [],
   "source": [
    "#/------------------------------------- Sử dụng in --------------------------------------\n",
    "def isSubTree_inRoot(root, subRoot):\n",
    "    strRoot = convertToString(root) \n",
    "    strSubRoot = convertToString(subRoot)\n",
    "    \n",
    "    if strSubRoot in strRoot:\n",
    "        return True\n",
    "    \n",
    "    return False\n",
    "\n",
    "#/-----------------------------------------------------------------------------------------"
   ]
  },
  {
   "cell_type": "code",
   "execution_count": 18,
   "metadata": {},
   "outputs": [
    {
     "name": "stdout",
     "output_type": "stream",
     "text": [
      "Root:3\n",
      "    L--- 4\n",
      "        L--- 1\n",
      "        R--- 2\n",
      "    R--- 5\n",
      "Root:4\n",
      "    L--- 1\n",
      "    R--- 2\n"
     ]
    },
    {
     "data": {
      "text/plain": [
       "True"
      ]
     },
     "execution_count": 18,
     "metadata": {},
     "output_type": "execute_result"
    }
   ],
   "source": [
    "root = [3,4,5,1,2]\n",
    "subRoot = [4,1,2]\n",
    "\n",
    "Root = insertBinaryTree(root)\n",
    "SubRoot= insertBinaryTree(subRoot)\n",
    "\n",
    "print_tree(Root)\n",
    "print_tree(SubRoot)\n",
    "\n",
    "isSubTree_BruteForce(Root, SubRoot)"
   ]
  },
  {
   "cell_type": "code",
   "execution_count": 19,
   "metadata": {},
   "outputs": [
    {
     "name": "stdout",
     "output_type": "stream",
     "text": [
      "Root:3\n",
      "    L--- 4\n",
      "        L--- 1\n",
      "        R--- 2\n",
      "            L--- 0\n",
      "    R--- 5\n",
      "Root:4\n",
      "    L--- 1\n",
      "    R--- 2\n"
     ]
    },
    {
     "data": {
      "text/plain": [
       "False"
      ]
     },
     "execution_count": 19,
     "metadata": {},
     "output_type": "execute_result"
    }
   ],
   "source": [
    "root = [3,4,5,1,2,None,None,None,None,0]\n",
    "subRoot = [4,1,2]\n",
    "\n",
    "\n",
    "Root = insertBinaryTree(root)\n",
    "SubRoot= insertBinaryTree(subRoot)\n",
    "\n",
    "print_tree(Root)\n",
    "print_tree(SubRoot)\n",
    "\n",
    "isSubTree_BruteForce(Root, SubRoot)"
   ]
  },
  {
   "cell_type": "code",
   "execution_count": 20,
   "metadata": {},
   "outputs": [
    {
     "name": "stdout",
     "output_type": "stream",
     "text": [
      "Root:12\n",
      "Root:2\n"
     ]
    },
    {
     "data": {
      "text/plain": [
       "False"
      ]
     },
     "execution_count": 20,
     "metadata": {},
     "output_type": "execute_result"
    }
   ],
   "source": [
    "root = [12]\n",
    "subRoot = [2]\n",
    "\n",
    "\n",
    "Root = insertBinaryTree(root)\n",
    "SubRoot= insertBinaryTree(subRoot)\n",
    "\n",
    "print_tree(Root)\n",
    "print_tree(SubRoot)\n",
    "\n",
    "isSubTree_BruteForce(Root, SubRoot)"
   ]
  },
  {
   "cell_type": "markdown",
   "metadata": {},
   "source": [
    "-------------------------------- Thuật toán Knuth Morris Pratt (KMP) -----------------------------------"
   ]
  },
  {
   "cell_type": "code",
   "execution_count": 21,
   "metadata": {},
   "outputs": [],
   "source": [
    "#/----------------------------Tính toán mảng LPS (Longest Prefix Suffix) để tối ưu hóa việc tìm kiếm.\n",
    "def computeLPS(pattern):\n",
    "    lps = [0] * len(pattern)  # Khởi tạo mảng LPS\n",
    "    length = 0 # Chiều dài của tiền tố\n",
    "    i = 1  # Bắt đầu từ ký tự thứ hai\n",
    "\n",
    "    while i < len(pattern):\n",
    "        if pattern[i] == pattern[length]: # Nếu ký tự hiện tại khớp với ký tự ở vị trí length\n",
    "            length += 1\n",
    "            lps[i] = length\n",
    "            i += 1\n",
    "        else:\n",
    "            if length != 0:\n",
    "                length = lps[length - 1]  # Nhảy về chiều dài tiền tố trước đó\n",
    "            else:\n",
    "                lps[i] = 0 # Nếu không khớp, gán LPS là 0\n",
    "                i += 1\n",
    "\n",
    "    return lps\n"
   ]
  },
  {
   "cell_type": "code",
   "execution_count": 22,
   "metadata": {},
   "outputs": [],
   "source": [
    "\n",
    "def isSubTree_KMP(text, pattens, lsp):\n",
    "    i, j = 0, 0\n",
    "\n",
    "    while i < len(text):\n",
    "        if text[i] == pattens[j]:\n",
    "            i += 1\n",
    "            j += 1\n",
    "\n",
    "            if j == len(pattens):\n",
    "                return True\n",
    "            \n",
    "        else:\n",
    "            if j != 0:\n",
    "                j = lsp[j - 1]\n",
    "\n",
    "            else:\n",
    "                i += 1\n",
    "\n",
    "    return False\n",
    "       \n",
    "        "
   ]
  },
  {
   "cell_type": "code",
   "execution_count": 30,
   "metadata": {},
   "outputs": [
    {
     "name": "stdout",
     "output_type": "stream",
     "text": [
      "Root:3\n",
      "    L--- 4\n",
      "        L--- 1\n",
      "        R--- 2\n",
      "    R--- 5\n",
      "Root:4\n",
      "    L--- 1\n",
      "    R--- 2\n"
     ]
    },
    {
     "data": {
      "text/plain": [
       "True"
      ]
     },
     "execution_count": 30,
     "metadata": {},
     "output_type": "execute_result"
    }
   ],
   "source": [
    "root = [3,4,5,1,2]\n",
    "subRoot = [4,1,2]\n",
    "\n",
    "Root = insertBinaryTree(root)\n",
    "SubRoot= insertBinaryTree(subRoot)\n",
    "\n",
    "print_tree(Root)\n",
    "print_tree(SubRoot)\n",
    "\n",
    "str_root = convertToString(Root)\n",
    "str_subRoot = convertToString(SubRoot)\n",
    "\n",
    "isSubTree_KMP(str_root, str_subRoot, computeLPS(str_subRoot))\n"
   ]
  },
  {
   "cell_type": "code",
   "execution_count": 27,
   "metadata": {},
   "outputs": [
    {
     "name": "stdout",
     "output_type": "stream",
     "text": [
      "Root:3\n",
      "    L--- 4\n",
      "        L--- 1\n",
      "        R--- 2\n",
      "            L--- 0\n",
      "    R--- 5\n",
      "Root:4\n",
      "    L--- 1\n",
      "    R--- 2\n"
     ]
    },
    {
     "data": {
      "text/plain": [
       "False"
      ]
     },
     "execution_count": 27,
     "metadata": {},
     "output_type": "execute_result"
    }
   ],
   "source": [
    "root = [3,4,5,1,2,None,None,None,None,0]\n",
    "subRoot = [4,1,2]\n",
    "\n",
    "\n",
    "Root = insertBinaryTree(root)\n",
    "SubRoot= insertBinaryTree(subRoot)\n",
    "\n",
    "print_tree(Root)\n",
    "print_tree(SubRoot)\n",
    "\n",
    "str_root = convertToString(Root)\n",
    "str_subRoot = convertToString(SubRoot)\n",
    "\n",
    "isSubTree_KMP(str_root, str_subRoot, computeLPS(str_subRoot))"
   ]
  },
  {
   "cell_type": "code",
   "execution_count": 28,
   "metadata": {},
   "outputs": [
    {
     "name": "stdout",
     "output_type": "stream",
     "text": [
      "Root:12\n",
      "Root:2\n"
     ]
    },
    {
     "data": {
      "text/plain": [
       "False"
      ]
     },
     "execution_count": 28,
     "metadata": {},
     "output_type": "execute_result"
    }
   ],
   "source": [
    "root = [12]\n",
    "subRoot = [2]\n",
    "\n",
    "\n",
    "Root = insertBinaryTree(root)\n",
    "SubRoot= insertBinaryTree(subRoot)\n",
    "\n",
    "print_tree(Root)\n",
    "print_tree(SubRoot)\n",
    "\n",
    "str_root = convertToString(Root)\n",
    "str_subRoot = convertToString(SubRoot)\n",
    "\n",
    "isSubTree_KMP(str_root, str_subRoot, computeLPS(str_subRoot))\n"
   ]
  }
 ],
 "metadata": {
  "kernelspec": {
   "display_name": "_imagesearchVenv",
   "language": "python",
   "name": "python3"
  },
  "language_info": {
   "codemirror_mode": {
    "name": "ipython",
    "version": 3
   },
   "file_extension": ".py",
   "mimetype": "text/x-python",
   "name": "python",
   "nbconvert_exporter": "python",
   "pygments_lexer": "ipython3",
   "version": "3.12.5"
  }
 },
 "nbformat": 4,
 "nbformat_minor": 2
}
