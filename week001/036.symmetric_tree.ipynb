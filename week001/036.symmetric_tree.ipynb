{
 "cells": [
  {
   "cell_type": "markdown",
   "metadata": {},
   "source": [
    "Given the root of a binary tree, check whether it is a mirror of itself (i.e., symmetric around its center).\n",
    "\n",
    "Follow up: Could you solve it both recursively and iteratively?"
   ]
  },
  {
   "cell_type": "code",
   "execution_count": 51,
   "metadata": {},
   "outputs": [],
   "source": [
    "# Khởi tạo class Treenode\n",
    "class TreeNode(object):\n",
    "    def __init__(self, val=0):\n",
    "        self.val = val\n",
    "        self.left = None\n",
    "        self.right = None"
   ]
  },
  {
   "cell_type": "code",
   "execution_count": 52,
   "metadata": {},
   "outputs": [],
   "source": [
    "def insertBT(arr): # khởi tạo hàm chèn thêm giá trị vào treenode\n",
    "    if not arr:\n",
    "        return None\n",
    "    \n",
    "    root = TreeNode(arr[0])  # Khởi tạo nút gốc\n",
    "    queue = [root]  # Sử dụng hàng đợi để theo dõi các nút\n",
    "    index = 1  # Chỉ số bắt đầu từ 1 vì gốc đã được khởi tạo\n",
    "\n",
    "    while index < len(arr):\n",
    "        current = queue.pop(0)  # Lấy nút đầu tiên trong hàng đợi\n",
    "        \n",
    "        # Chèn nút trái nếu không phải 'null'\n",
    "        if arr[index] != 'null':\n",
    "            current.left = TreeNode(arr[index])\n",
    "            queue.append(current.left)\n",
    "        index += 1\n",
    "        \n",
    "        # Chèn nút phải nếu không phải 'null'\n",
    "        if index < len(arr) and arr[index] != 'null':\n",
    "            current.right = TreeNode(arr[index])\n",
    "            queue.append(current.right)\n",
    "        index += 1\n",
    "\n",
    "    return root"
   ]
  },
  {
   "cell_type": "code",
   "execution_count": 53,
   "metadata": {},
   "outputs": [],
   "source": [
    "def print_tree(node, level=0, prefix=\"Root:\"):\n",
    "    if node is not None:\n",
    "        print(\" \" * (level * 4) + prefix + str(node.val))\n",
    "        print_tree(node.left, level + 1, prefix=\"L--- \")\n",
    "        print_tree(node.right, level + 1, prefix=\"R--- \")"
   ]
  },
  {
   "cell_type": "code",
   "execution_count": 54,
   "metadata": {},
   "outputs": [],
   "source": [
    "def isSymmetric_recur(root):\n",
    "    if not root:\n",
    "        return True\n",
    "    \n",
    "    def isMirror(root1, root2):\n",
    "        if not root1 and not root2:\n",
    "            return True\n",
    "\n",
    "        if not root1 or not root2 or root1.val != root2.val:\n",
    "            return False\n",
    "\n",
    "        return isMirror(root1.left, root2.right) and isMirror(root1.right, root2.left)\n",
    "    \n",
    "    return isMirror(root.left, root.right)"
   ]
  },
  {
   "cell_type": "code",
   "execution_count": 55,
   "metadata": {},
   "outputs": [
    {
     "name": "stdout",
     "output_type": "stream",
     "text": [
      "[1, 2, 2, 3, 4, 4, 3]\n",
      "Root:1\n",
      "    L--- 2\n",
      "        L--- 3\n",
      "        R--- 4\n",
      "    R--- 2\n",
      "        L--- 4\n",
      "        R--- 3\n"
     ]
    },
    {
     "data": {
      "text/plain": [
       "True"
      ]
     },
     "execution_count": 55,
     "metadata": {},
     "output_type": "execute_result"
    }
   ],
   "source": [
    "root = [1,2,2,3,4,4,3]\n",
    "print(root)\n",
    "lst = insertBT(root)\n",
    "print_tree(lst)\n",
    "\n",
    "isSymmetric_recur(lst)"
   ]
  },
  {
   "cell_type": "code",
   "execution_count": 56,
   "metadata": {},
   "outputs": [
    {
     "name": "stdout",
     "output_type": "stream",
     "text": [
      "[1, 2, 2, 'null', 3, 'null', 3]\n",
      "Root:1\n",
      "    L--- 2\n",
      "        R--- 3\n",
      "    R--- 2\n",
      "        R--- 3\n"
     ]
    },
    {
     "data": {
      "text/plain": [
       "False"
      ]
     },
     "execution_count": 56,
     "metadata": {},
     "output_type": "execute_result"
    }
   ],
   "source": [
    "root = [1,2,2,'null',3,'null',3]\n",
    "print(root)\n",
    "lst = insertBT(root)\n",
    "print_tree(lst)\n",
    "isSymmetric_recur(lst)"
   ]
  },
  {
   "cell_type": "markdown",
   "metadata": {},
   "source": [
    "iteratively"
   ]
  },
  {
   "cell_type": "code",
   "execution_count": 57,
   "metadata": {},
   "outputs": [],
   "source": [
    "def isSymmetric_iter(root):\n",
    "    ''' INPUT\n",
    "        root = the root node of the binary tree\n",
    "     OUTPUT\n",
    "        Returns true if the binary tree is symmetric. Otherwise, returns false.'''\n",
    "    \n",
    "    if not root:\n",
    "        return True\n",
    "    \n",
    "    queue = []  # sử dụng hàng đợi \n",
    "    queue.append((root.left, root.right))\n",
    "\n",
    "    while queue:\n",
    "        left, right = queue[0]\n",
    "        queue = queue[1:]\n",
    "        if not left and not right:\n",
    "            continue\n",
    "\n",
    "        if not left or not right or left.val != right.val:\n",
    "            return False\n",
    "        \n",
    "        queue.append((left.left, right.right))\n",
    "        queue.append((left.right, right.left))\n",
    "        \n",
    "    return True"
   ]
  },
  {
   "cell_type": "code",
   "execution_count": 58,
   "metadata": {},
   "outputs": [
    {
     "name": "stdout",
     "output_type": "stream",
     "text": [
      "[1, 2, 2, 3, 4, 4, 3]\n",
      "Root:1\n",
      "    L--- 2\n",
      "        L--- 3\n",
      "        R--- 4\n",
      "    R--- 2\n",
      "        L--- 4\n",
      "        R--- 3\n"
     ]
    },
    {
     "data": {
      "text/plain": [
       "True"
      ]
     },
     "execution_count": 58,
     "metadata": {},
     "output_type": "execute_result"
    }
   ],
   "source": [
    "root = [1,2,2,3,4,4,3]\n",
    "print(root)\n",
    "lst = insertBT(root)\n",
    "print_tree(lst)\n",
    "isSymmetric_iter(lst)"
   ]
  },
  {
   "cell_type": "code",
   "execution_count": 59,
   "metadata": {},
   "outputs": [
    {
     "name": "stdout",
     "output_type": "stream",
     "text": [
      "[1, 2, 2, 'null', 3, 'null', 3]\n",
      "Root:1\n",
      "    L--- 2\n",
      "        R--- 3\n",
      "    R--- 2\n",
      "        R--- 3\n"
     ]
    },
    {
     "data": {
      "text/plain": [
       "False"
      ]
     },
     "execution_count": 59,
     "metadata": {},
     "output_type": "execute_result"
    }
   ],
   "source": [
    "root = [1,2,2,'null',3,'null',3]\n",
    "print(root)\n",
    "lst = insertBT(root)\n",
    "print_tree(lst)\n",
    "isSymmetric_iter(lst)"
   ]
  }
 ],
 "metadata": {
  "kernelspec": {
   "display_name": "_imagesearchVenv",
   "language": "python",
   "name": "python3"
  },
  "language_info": {
   "codemirror_mode": {
    "name": "ipython",
    "version": 3
   },
   "file_extension": ".py",
   "mimetype": "text/x-python",
   "name": "python",
   "nbconvert_exporter": "python",
   "pygments_lexer": "ipython3",
   "version": "3.12.5"
  }
 },
 "nbformat": 4,
 "nbformat_minor": 2
}
