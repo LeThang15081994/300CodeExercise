{
 "cells": [
  {
   "cell_type": "markdown",
   "metadata": {},
   "source": [
    "Given an array of integers nums which is sorted in ascending order, and an integer target, write a function to search target in nums. \n",
    "If target exists, then return its index. Otherwise, return -1.\n",
    "\n",
    "You must write an algorithm with O(log n) runtime complexity."
   ]
  },
  {
   "cell_type": "code",
   "execution_count": 2,
   "metadata": {},
   "outputs": [],
   "source": [
    "def search( nums, target):\n",
    "    left, right = 0 , len(nums) - 1 # Đặt phạm vi tìm kiếm \n",
    "\n",
    "    while left <= right:      # kiểm tra phạm vi có còn hợp lệ\n",
    "        mid = (left + right) // 2 # tìm giá trị mid của mảng\n",
    "\n",
    "        if nums[mid] == target: # so sánh giá trị tại vị trí mid với target\n",
    "            return mid          # trả về ngay lập tức giá trị tìm được\n",
    "        elif nums[mid] < target: # so sánh giá trị tại vị trí mid với target\n",
    "            left = mid + 1     # cập nhật lại giá trị phạm vi bên trái\n",
    "        else:\n",
    "            right = mid - 1 # cập nhật lại giá trị phạm vi bên trái\n",
    "    return -1"
   ]
  },
  {
   "cell_type": "code",
   "execution_count": 8,
   "metadata": {},
   "outputs": [
    {
     "data": {
      "text/plain": [
       "4"
      ]
     },
     "execution_count": 8,
     "metadata": {},
     "output_type": "execute_result"
    }
   ],
   "source": [
    "nums = [-1,0,3,5,9,12]\n",
    "target1 = 9\n",
    "search(nums, target1)"
   ]
  },
  {
   "cell_type": "code",
   "execution_count": 7,
   "metadata": {},
   "outputs": [
    {
     "data": {
      "text/plain": [
       "-1"
      ]
     },
     "execution_count": 7,
     "metadata": {},
     "output_type": "execute_result"
    }
   ],
   "source": [
    "nums = [-1,0,3,5,9,12]\n",
    "target2 = 2\n",
    "search(nums, target2)"
   ]
  }
 ],
 "metadata": {
  "kernelspec": {
   "display_name": "_imagesearchVenv",
   "language": "python",
   "name": "python3"
  },
  "language_info": {
   "codemirror_mode": {
    "name": "ipython",
    "version": 3
   },
   "file_extension": ".py",
   "mimetype": "text/x-python",
   "name": "python",
   "nbconvert_exporter": "python",
   "pygments_lexer": "ipython3",
   "version": "3.12.5"
  }
 },
 "nbformat": 4,
 "nbformat_minor": 2
}
