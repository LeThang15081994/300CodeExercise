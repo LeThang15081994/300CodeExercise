{
 "cells": [
  {
   "cell_type": "markdown",
   "metadata": {},
   "source": [
    "Given the root of a binary seach tree, invert the tree, and return its root.\n",
    "(Cho gốc của một cây nhị phân tìm kiếm, hãy đảo ngược và trả về gốc của nó)"
   ]
  },
  {
   "cell_type": "code",
   "execution_count": 24,
   "metadata": {},
   "outputs": [],
   "source": [
    "from collections import deque"
   ]
  },
  {
   "cell_type": "code",
   "execution_count": 25,
   "metadata": {},
   "outputs": [],
   "source": [
    "# Khởi tạo class Treenode\n",
    "class TreeNode(object):\n",
    "    def __init__(self, val=0):\n",
    "        self.val = val\n",
    "        self.left = None\n",
    "        self.right = None"
   ]
  },
  {
   "cell_type": "code",
   "execution_count": 26,
   "metadata": {},
   "outputs": [],
   "source": [
    "n1 = TreeNode(\"root node\")\n",
    "n2 = TreeNode(\"left child node\")\n",
    "n3 = TreeNode(\"right child node\")\n",
    "n4 = TreeNode(\"left grandchild node\")"
   ]
  },
  {
   "cell_type": "code",
   "execution_count": 27,
   "metadata": {},
   "outputs": [],
   "source": [
    "n1.left = n2\n",
    "n1.right = n3\n",
    "n2.left= n4"
   ]
  },
  {
   "cell_type": "code",
   "execution_count": 28,
   "metadata": {},
   "outputs": [
    {
     "name": "stdout",
     "output_type": "stream",
     "text": [
      "<__main__.TreeNode object at 0x000001D9ED8A7110>\n"
     ]
    }
   ],
   "source": [
    "print(n1.left)"
   ]
  },
  {
   "cell_type": "code",
   "execution_count": 29,
   "metadata": {},
   "outputs": [
    {
     "name": "stdout",
     "output_type": "stream",
     "text": [
      "root node\n",
      "left child node\n",
      "left grandchild node\n"
     ]
    }
   ],
   "source": [
    "current = n1\n",
    "while current:\n",
    "    print(current.val)\n",
    "    current = current.left"
   ]
  },
  {
   "cell_type": "code",
   "execution_count": 30,
   "metadata": {},
   "outputs": [],
   "source": [
    "def insertBST(rootnode,val): # khởi tạo hàm chèn thêm giá trị vào treenode\n",
    "\n",
    "    current = rootnode # khởi tạo con trỏ current \n",
    "\n",
    "    while True:\n",
    "        if val < current.val: # kiểm tra giá trị val có nhỏ hơn giá trị current hiện tại không\n",
    "            if not current.left: # kiểm tra giá trị current bên trái có rỗng không\n",
    "                current.left = TreeNode(val) # gán giá trị hiện tại vào giá trị bên trái\n",
    "                break\n",
    "\n",
    "            current = current.left # gán current bên trái vào giá trị current hiện tai\n",
    "            \n",
    "        else:\n",
    "            if not current.right: # kiểm tra giá trị current bên phải có rỗng không\n",
    "                current.right = TreeNode(val) # gán giá trị hiện tại vào giá trị bên phải\n",
    "                break\n",
    "\n",
    "            current = current.right # gán current bên phải vào giá trị current hiện tai\n",
    "\n",
    "    return rootnode"
   ]
  },
  {
   "cell_type": "code",
   "execution_count": 31,
   "metadata": {},
   "outputs": [],
   "source": [
    "def LsttoBST(data): # Khởi tạo hàm chuyển đổi list sang tree node\n",
    "    \n",
    "    if not data:\n",
    "        return None\n",
    "    \n",
    "    root = TreeNode(data[0]) # khởi tạo root node là giá trị đầu tiên của list\n",
    "    for num in data[1:]:\n",
    "        insertBST(root,num) # chèn các giá trị của list vào treenode thông qua hàm insertBST\n",
    "    return root\n"
   ]
  },
  {
   "cell_type": "code",
   "execution_count": 32,
   "metadata": {},
   "outputs": [],
   "source": [
    "def rootPrint(root):\n",
    "    if not root:\n",
    "        return []\n",
    "    \n",
    "    queue = deque([root])\n",
    "    result = []\n",
    "    \n",
    "    while queue:\n",
    "        current = queue.popleft() # Lấy và loại bỏ node đầu tiên trong hàng đợi\n",
    "        result.append(current.val) # Thêm giá trị của node hiện tại vào danh sách kết quả\n",
    "        \n",
    "        if current.left:\n",
    "            queue.append(current.left) # Thêm node con bên trái vào hàng đợi\n",
    "        if current.right:\n",
    "            queue.append(current.right) # Thêm node con bên phải vào hàng đợi\n",
    "    \n",
    "    return result"
   ]
  },
  {
   "cell_type": "code",
   "execution_count": 33,
   "metadata": {},
   "outputs": [],
   "source": [
    "def invert_tree(root):\n",
    "    if root is None:\n",
    "        return None\n",
    "    \n",
    "    queue = [root]\n",
    "    \n",
    "    while queue:\n",
    "        current = queue.pop(0)  # Lấy và loại bỏ phần tử đầu tiên trong danh sách\n",
    "        \n",
    "        # Hoán đổi con trái và phải\n",
    "        current.left, current.right = current.right, current.left\n",
    "        \n",
    "        if current.left:\n",
    "            queue.append(current.left)\n",
    "        if current.right:\n",
    "            queue.append(current.right)\n",
    "    \n",
    "    return root"
   ]
  },
  {
   "cell_type": "code",
   "execution_count": 34,
   "metadata": {},
   "outputs": [
    {
     "name": "stdout",
     "output_type": "stream",
     "text": [
      "[4, 2, 7, 1, 3, 6, 9]\n",
      "<class '__main__.TreeNode'>\n",
      "[4, 7, 2, 9, 6, 3, 1]\n"
     ]
    }
   ],
   "source": [
    "lst = [4,2,7,1,3,6,9]\n",
    "\n",
    "current = LsttoBST(lst)\n",
    "print(rootPrint(current))\n",
    "print(type(current))\n",
    "print(rootPrint(invert_tree(current)))"
   ]
  },
  {
   "cell_type": "code",
   "execution_count": 36,
   "metadata": {},
   "outputs": [
    {
     "name": "stdout",
     "output_type": "stream",
     "text": [
      "[2, 1, 3]\n",
      "<class '__main__.TreeNode'>\n",
      "[2, 3, 1]\n"
     ]
    }
   ],
   "source": [
    "lst = [2,1,3]\n",
    "\n",
    "current = LsttoBST(lst)\n",
    "print(rootPrint(current))\n",
    "print(type(current))\n",
    "print(rootPrint(invert_tree(current)))"
   ]
  },
  {
   "cell_type": "code",
   "execution_count": 37,
   "metadata": {},
   "outputs": [
    {
     "name": "stdout",
     "output_type": "stream",
     "text": [
      "[]\n",
      "<class 'NoneType'>\n",
      "[]\n"
     ]
    }
   ],
   "source": [
    "lst = []\n",
    "\n",
    "current = LsttoBST(lst)\n",
    "print(rootPrint(current))\n",
    "print(type(current))\n",
    "print(rootPrint(invert_tree(current)))"
   ]
  },
  {
   "cell_type": "markdown",
   "metadata": {},
   "source": [
    "- https://www.youtube.com/watch?v=TlEqqkszRtQ\n",
    "- https://viblo.asia/p/chuong-6-trees-1-tree-la-gi-ly-thuyet-ve-binary-tree-obA46PM9LKv"
   ]
  }
 ],
 "metadata": {
  "kernelspec": {
   "display_name": "Python 3",
   "language": "python",
   "name": "python3"
  },
  "language_info": {
   "codemirror_mode": {
    "name": "ipython",
    "version": 3
   },
   "file_extension": ".py",
   "mimetype": "text/x-python",
   "name": "python",
   "nbconvert_exporter": "python",
   "pygments_lexer": "ipython3",
   "version": "3.11.9"
  }
 },
 "nbformat": 4,
 "nbformat_minor": 2
}
