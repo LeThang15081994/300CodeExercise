{
 "cells": [
  {
   "cell_type": "markdown",
   "metadata": {},
   "source": [
    "Given the root of a binary tree, return the length of the diameter of the tree.\n",
    "\n",
    "The diameter of a binary tree is the length of the longest path between any two nodes in a tree. This path may or may not pass through the root.\n",
    "\n",
    "The length of a path between two nodes is represented by the number of edges between them"
   ]
  },
  {
   "cell_type": "markdown",
   "metadata": {},
   "source": [
    "Sử dụng thuật toán tham lam"
   ]
  },
  {
   "cell_type": "code",
   "execution_count": 10,
   "metadata": {},
   "outputs": [],
   "source": [
    "from collections import deque\n",
    "# Khởi tạo class Treenode\n",
    "class TreeNode(object):\n",
    "    def __init__(self, val=0):\n",
    "        self.val = val\n",
    "        self.left = None\n",
    "        self.right = None"
   ]
  },
  {
   "cell_type": "code",
   "execution_count": 11,
   "metadata": {},
   "outputs": [],
   "source": [
    "def insertBT(arr): # khởi tạo hàm chèn thêm giá trị vào treenode\n",
    "    if not arr:\n",
    "        return None\n",
    "    \n",
    "    root = TreeNode(arr[0])  # Khởi tạo nút gốc\n",
    "    queue = [root]  # Sử dụng hàng đợi để theo dõi các nút\n",
    "    index = 1  # Chỉ số bắt đầu từ 1 vì gốc đã được khởi tạo\n",
    "\n",
    "    while index < len(arr):\n",
    "        current = queue.pop(0)  # Lấy nút đầu tiên trong hàng đợi\n",
    "        \n",
    "        # Chèn nút trái nếu không phải 'null'\n",
    "        if arr[index] != 'null':\n",
    "            current.left = TreeNode(arr[index])\n",
    "            queue.append(current.left)\n",
    "        index += 1\n",
    "        \n",
    "        # Chèn nút phải nếu không phải 'null'\n",
    "        if index < len(arr) and arr[index] != 'null':\n",
    "            current.right = TreeNode(arr[index])\n",
    "            queue.append(current.right)\n",
    "        index += 1\n",
    "\n",
    "    return root\n"
   ]
  },
  {
   "cell_type": "code",
   "execution_count": 13,
   "metadata": {},
   "outputs": [],
   "source": [
    "def print_tree(node, level=0, prefix=\"Root:\"):\n",
    "    if node is not None:\n",
    "        print(\" \" * (level * 4) + prefix + str(node.val))\n",
    "        print_tree(node.left, level + 1, prefix=\"L--- \")\n",
    "        print_tree(node.right, level + 1, prefix=\"R--- \")"
   ]
  },
  {
   "cell_type": "code",
   "execution_count": 59,
   "metadata": {},
   "outputs": [],
   "source": [
    "def diameterOfBinaryTree(root):\n",
    "    diameter = 0\n",
    "\n",
    "    def height(root):\n",
    "        nonlocal diameter\n",
    "\n",
    "        if not root:\n",
    "            return 0  # Chiều cao của cây rỗng là 0\n",
    "        \n",
    "        # Tính chiều cao của cây con trái và phải\n",
    "        left_height = height(root.left)\n",
    "        right_height = height(root.right)\n",
    "\n",
    "        # Cập nhật đường kính nếu cần\n",
    "        diameter = max(diameter, left_height + right_height)\n",
    "        \n",
    "        return max(left_height, right_height) + 1# Trả về chiều cao cây hiện tại\n",
    "    \n",
    "    height(root)\n",
    "    return diameter  # Cây cân bằng nếu chiều cao không trả về -1\n"
   ]
  },
  {
   "cell_type": "code",
   "execution_count": 60,
   "metadata": {},
   "outputs": [
    {
     "name": "stdout",
     "output_type": "stream",
     "text": [
      "[1, 2, 3, 4, 5]\n",
      "Root:1\n",
      "    L--- 2\n",
      "        L--- 4\n",
      "        R--- 5\n",
      "    R--- 3\n"
     ]
    },
    {
     "data": {
      "text/plain": [
       "3"
      ]
     },
     "execution_count": 60,
     "metadata": {},
     "output_type": "execute_result"
    }
   ],
   "source": [
    "root = [1,2,3,4,5]\n",
    "print(root)\n",
    "lst = insertBT(root)\n",
    "print_tree(lst)\n",
    "diameterOfBinaryTree(lst)"
   ]
  },
  {
   "cell_type": "code",
   "execution_count": 61,
   "metadata": {},
   "outputs": [
    {
     "name": "stdout",
     "output_type": "stream",
     "text": [
      "[1, 2]\n",
      "Root:1\n",
      "    L--- 2\n"
     ]
    },
    {
     "data": {
      "text/plain": [
       "1"
      ]
     },
     "execution_count": 61,
     "metadata": {},
     "output_type": "execute_result"
    }
   ],
   "source": [
    "root = [1,2]\n",
    "print(root)\n",
    "lst = insertBT(root)\n",
    "print_tree(lst)\n",
    "diameterOfBinaryTree(lst)"
   ]
  }
 ],
 "metadata": {
  "kernelspec": {
   "display_name": "_imagesearchVenv",
   "language": "python",
   "name": "python3"
  },
  "language_info": {
   "codemirror_mode": {
    "name": "ipython",
    "version": 3
   },
   "file_extension": ".py",
   "mimetype": "text/x-python",
   "name": "python",
   "nbconvert_exporter": "python",
   "pygments_lexer": "ipython3",
   "version": "3.12.5"
  }
 },
 "nbformat": 4,
 "nbformat_minor": 2
}
