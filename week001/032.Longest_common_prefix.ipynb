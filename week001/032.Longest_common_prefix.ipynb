{
 "cells": [
  {
   "cell_type": "markdown",
   "metadata": {},
   "source": [
    "Write a function to find the longest common prefix string amongst an array of strings.\n",
    "\n",
    "If there is no common prefix, return an empty string \"\"."
   ]
  },
  {
   "cell_type": "code",
   "execution_count": 2,
   "metadata": {},
   "outputs": [],
   "source": [
    "def longestCommonPrefix(strs):\n",
    "    if not strs:    # kiểm tra nếu list rỗng\n",
    "        return \"\"\n",
    "    \n",
    "    prefix = strs[0] #gán chuỗi tiền tố là chuỗi đầu tiên \n",
    "\n",
    "    for s in strs[1:]: \n",
    "        while not s.startswith(prefix): # kiểm tra chuỗi s có tiền tố chuỗi prefix không, nếu không cắt ngắn chuỗi prefix\n",
    "            prefix = prefix[:-1]\n",
    "\n",
    "            if not prefix: # kiểm tra lại chuỗi prefix có rỗng không\n",
    "                return \"\"\n",
    "\n",
    "    return prefix\n"
   ]
  },
  {
   "cell_type": "code",
   "execution_count": 3,
   "metadata": {},
   "outputs": [
    {
     "data": {
      "text/plain": [
       "'fl'"
      ]
     },
     "execution_count": 3,
     "metadata": {},
     "output_type": "execute_result"
    }
   ],
   "source": [
    "strs =[\"flower\",\"flow\",\"flight\"]\n",
    "longestCommonPrefix(strs)"
   ]
  },
  {
   "cell_type": "code",
   "execution_count": 4,
   "metadata": {},
   "outputs": [
    {
     "data": {
      "text/plain": [
       "''"
      ]
     },
     "execution_count": 4,
     "metadata": {},
     "output_type": "execute_result"
    }
   ],
   "source": [
    "strs =[\"dog\",\"racecar\",\"car\"]\n",
    "longestCommonPrefix(strs)"
   ]
  },
  {
   "cell_type": "code",
   "execution_count": 7,
   "metadata": {},
   "outputs": [],
   "source": [
    "def longestCommonPrefix_2(strs):\n",
    "    strs = sorted(strs) # sắp xếp lại list chuỗi \n",
    "\n",
    "    prefix = \"\" # khởi tạo chuỗi prefix\n",
    "    first = strs[0] \n",
    "    last = strs[-1]\n",
    "\n",
    "    for i in range(min(len(first), len(last))):\n",
    "        if first[i] != last[i]:\n",
    "            return prefix  # nếu gặp ký tự không giống nhau thì trả về prefix\n",
    "        \n",
    "        prefix += first[i] # cập nhật lại prefix\n",
    "\n",
    "    return prefix"
   ]
  },
  {
   "cell_type": "code",
   "execution_count": 9,
   "metadata": {},
   "outputs": [
    {
     "data": {
      "text/plain": [
       "'fl'"
      ]
     },
     "execution_count": 9,
     "metadata": {},
     "output_type": "execute_result"
    }
   ],
   "source": [
    "strs =[\"flower\",\"flow\",\"flight\"]\n",
    "longestCommonPrefix_2(strs)"
   ]
  },
  {
   "cell_type": "code",
   "execution_count": 10,
   "metadata": {},
   "outputs": [
    {
     "data": {
      "text/plain": [
       "''"
      ]
     },
     "execution_count": 10,
     "metadata": {},
     "output_type": "execute_result"
    }
   ],
   "source": [
    "strs =[\"dog\",\"racecar\",\"car\"]\n",
    "longestCommonPrefix_2(strs)"
   ]
  }
 ],
 "metadata": {
  "kernelspec": {
   "display_name": "_imagesearchVenv",
   "language": "python",
   "name": "python3"
  },
  "language_info": {
   "codemirror_mode": {
    "name": "ipython",
    "version": 3
   },
   "file_extension": ".py",
   "mimetype": "text/x-python",
   "name": "python",
   "nbconvert_exporter": "python",
   "pygments_lexer": "ipython3",
   "version": "3.12.5"
  }
 },
 "nbformat": 4,
 "nbformat_minor": 2
}
