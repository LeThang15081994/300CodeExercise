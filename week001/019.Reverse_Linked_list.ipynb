{
 "cells": [
  {
   "cell_type": "markdown",
   "metadata": {},
   "source": [
    "Given the head of a singly linked list, reverse the list, and return the reversed list."
   ]
  },
  {
   "cell_type": "code",
   "execution_count": 3,
   "metadata": {},
   "outputs": [],
   "source": [
    "class Node:\n",
    "    def __init__(self, value):\n",
    "        self.value = value  # Giá trị của nút\n",
    "        self.next = None    # Con trỏ đến nút tiếp theo"
   ]
  },
  {
   "cell_type": "code",
   "execution_count": 34,
   "metadata": {},
   "outputs": [],
   "source": [
    "class SinglyLinkedList:\n",
    "    def __init__(self):\n",
    "        self.head = None    # Khởi tạo head của danh sách liên kết đơn\n",
    "\n",
    "    def append(self, value):\n",
    "        new_node = Node(value)  # Tạo một nút mới\n",
    "\n",
    "        if not self.head:       # Nếu danh sách rỗng\n",
    "            self.head = new_node\n",
    "            return\n",
    "        \n",
    "        current = self.head\n",
    "\n",
    "        while current.next:     # Duyệt đến nút cuối cùng\n",
    "            current = current.next\n",
    "\n",
    "        current.next = new_node # Gán nút mới vào cuối danh sách\n",
    "\n",
    "    def print_list(self):\n",
    "        \"\"\" In ra danh sách liên kết cho đến khi gặp vòng lặp hoặc đạt giới hạn. \"\"\"\n",
    "        current = self.head\n",
    "\n",
    "        while current:\n",
    "            print(current.value, end=' -> ')\n",
    "            current = current.next\n",
    "        \n",
    "        print(\"NULL\")\n",
    "\n",
    "    def reverseList(self):\n",
    "        prev = None\n",
    "\n",
    "        current = self.head\n",
    "\n",
    "        while current:\n",
    "            next_node = current.next\n",
    "\n",
    "            current.next = prev\n",
    "            prev = current\n",
    "            current = next_node\n",
    "\n",
    "        self.head = prev\n",
    "    "
   ]
  },
  {
   "cell_type": "code",
   "execution_count": 35,
   "metadata": {},
   "outputs": [
    {
     "name": "stdout",
     "output_type": "stream",
     "text": [
      "1 -> 2 -> 3 -> 4 -> 5 -> NULL\n",
      "5 -> 4 -> 3 -> 2 -> 1 -> NULL\n"
     ]
    }
   ],
   "source": [
    "head = [1,2,3,4,5]\n",
    "linked_list = SinglyLinkedList()\n",
    "\n",
    "for val in head:\n",
    "    linked_list.append(val)\n",
    "\n",
    "linked_list.print_list()\n",
    "linked_list.reverseList()\n",
    "linked_list.print_list()"
   ]
  }
 ],
 "metadata": {
  "kernelspec": {
   "display_name": "_imagesearchVenv",
   "language": "python",
   "name": "python3"
  },
  "language_info": {
   "codemirror_mode": {
    "name": "ipython",
    "version": 3
   },
   "file_extension": ".py",
   "mimetype": "text/x-python",
   "name": "python",
   "nbconvert_exporter": "python",
   "pygments_lexer": "ipython3",
   "version": "3.12.5"
  }
 },
 "nbformat": 4,
 "nbformat_minor": 2
}
