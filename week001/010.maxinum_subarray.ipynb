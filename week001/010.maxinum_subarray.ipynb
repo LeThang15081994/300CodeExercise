{
 "cells": [
  {
   "cell_type": "markdown",
   "metadata": {},
   "source": [
    "Given an integer array nums, find the subarray with the largest sum, and return its sum.\n",
    "\n",
    "Thuật toán kadane"
   ]
  },
  {
   "cell_type": "code",
   "execution_count": 19,
   "metadata": {},
   "outputs": [],
   "source": [
    "def maxsubsum(array):\n",
    "    maxSum = float('-inf') # Khởi tạo giá trị maxSum là âm vô cực\n",
    "    current_sum = 0\n",
    "    start_idx = 0\n",
    "    end_idx = 0\n",
    "    tmp = 0\n",
    "\n",
    "    for idx in range(len(array)):\n",
    "        current_sum += array[idx]\n",
    "\n",
    "        if current_sum > maxSum:\n",
    "            maxSum = current_sum # Cập nhật maxSum nếu currentSum lớn hơn\n",
    "            start_idx = tmp\n",
    "            end_idx = idx \n",
    "\n",
    "        if current_sum < 0:\n",
    "            current_sum = 0 # Đặt lại currentSum nếu nó âm tính tổng cho mảng con mới.\n",
    "            tmp = idx + 1\n",
    "\n",
    "    return maxSum , array[start_idx:end_idx+1]"
   ]
  },
  {
   "cell_type": "code",
   "execution_count": 20,
   "metadata": {},
   "outputs": [
    {
     "data": {
      "text/plain": [
       "(6, [4, -1, 2, 1])"
      ]
     },
     "execution_count": 20,
     "metadata": {},
     "output_type": "execute_result"
    }
   ],
   "source": [
    "nums = [-2,1,-3,4,-1,2,1,-5,4]\n",
    "maxsubsum(nums)"
   ]
  },
  {
   "cell_type": "code",
   "execution_count": 21,
   "metadata": {},
   "outputs": [
    {
     "data": {
      "text/plain": [
       "(1, [1])"
      ]
     },
     "execution_count": 21,
     "metadata": {},
     "output_type": "execute_result"
    }
   ],
   "source": [
    "nums = [1]\n",
    "maxsubsum(nums)"
   ]
  },
  {
   "cell_type": "code",
   "execution_count": 22,
   "metadata": {},
   "outputs": [
    {
     "data": {
      "text/plain": [
       "(23, [5, 4, -1, 7, 8])"
      ]
     },
     "execution_count": 22,
     "metadata": {},
     "output_type": "execute_result"
    }
   ],
   "source": [
    "nums = [5,4,-1,7,8]\n",
    "maxsubsum(nums)"
   ]
  }
 ],
 "metadata": {
  "kernelspec": {
   "display_name": "_imagesearchVenv",
   "language": "python",
   "name": "python3"
  },
  "language_info": {
   "codemirror_mode": {
    "name": "ipython",
    "version": 3
   },
   "file_extension": ".py",
   "mimetype": "text/x-python",
   "name": "python",
   "nbconvert_exporter": "python",
   "pygments_lexer": "ipython3",
   "version": "3.12.5"
  }
 },
 "nbformat": 4,
 "nbformat_minor": 2
}
