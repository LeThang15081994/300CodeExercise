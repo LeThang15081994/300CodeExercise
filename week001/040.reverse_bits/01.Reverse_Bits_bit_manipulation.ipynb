{
 "cells": [
  {
   "cell_type": "markdown",
   "metadata": {},
   "source": [
    "Reverse bits of a given 32 bits unsigned integer."
   ]
  },
  {
   "cell_type": "markdown",
   "metadata": {},
   "source": [
    "Note:\n",
    "\n",
    "Note that in some languages, such as Java, there is no unsigned integer type. In this case, both input and output will be given as a signed integer type. They should not affect your implementation, as the integer's internal binary representation is the same, whether it is signed or unsigned.\n",
    "In Java, the compiler represents the signed integers using 2's complement notation. Therefore, in Example 2 above, the input represents the signed integer -3 and the output represents the signed integer -1073741825."
   ]
  },
  {
   "cell_type": "markdown",
   "metadata": {},
   "source": [
    "Follow up: If this function is called many times, how would you optimize it"
   ]
  },
  {
   "cell_type": "code",
   "execution_count": 74,
   "metadata": {},
   "outputs": [],
   "source": [
    "def reverseBits(n):\n",
    "    print(f'binary number------{n:0>32b} = {n}')\n",
    "\n",
    "    tmp = 0 \n",
    "\n",
    "    for i in range(32):\n",
    "        tmp <<= 1 # Dịch trái kết quả\n",
    "        tmp |= (n & 1) # Lấy bit thấp nhất của n và gán cho kết quả\n",
    "        n >>= 1  # Dịch phải n để lấy bit tiếp theo\n",
    "    \n",
    "    return (tmp, f'{tmp:0>32b}')\n"
   ]
  },
  {
   "cell_type": "code",
   "execution_count": 77,
   "metadata": {},
   "outputs": [
    {
     "name": "stdout",
     "output_type": "stream",
     "text": [
      "binary number------00000001010010100000111101001110 = 21630798\n"
     ]
    },
    {
     "data": {
      "text/plain": [
       "(1928352384, '01110010111100000101001010000000')"
      ]
     },
     "execution_count": 77,
     "metadata": {},
     "output_type": "execute_result"
    }
   ],
   "source": [
    "n = 0b0000001010010100000111101001110\n",
    "reverseBits(n)"
   ]
  },
  {
   "cell_type": "code",
   "execution_count": 76,
   "metadata": {},
   "outputs": [
    {
     "name": "stdout",
     "output_type": "stream",
     "text": [
      "binary number------11111111111111111111111111111101 = 4294967293\n"
     ]
    },
    {
     "data": {
      "text/plain": [
       "(3221225471, '10111111111111111111111111111111')"
      ]
     },
     "execution_count": 76,
     "metadata": {},
     "output_type": "execute_result"
    }
   ],
   "source": [
    "n = 0b11111111111111111111111111111101\n",
    "reverseBits(n)"
   ]
  }
 ],
 "metadata": {
  "kernelspec": {
   "display_name": "_imagesearchVenv",
   "language": "python",
   "name": "python3"
  },
  "language_info": {
   "codemirror_mode": {
    "name": "ipython",
    "version": 3
   },
   "file_extension": ".py",
   "mimetype": "text/x-python",
   "name": "python",
   "nbconvert_exporter": "python",
   "pygments_lexer": "ipython3",
   "version": "3.12.5"
  }
 },
 "nbformat": 4,
 "nbformat_minor": 2
}
