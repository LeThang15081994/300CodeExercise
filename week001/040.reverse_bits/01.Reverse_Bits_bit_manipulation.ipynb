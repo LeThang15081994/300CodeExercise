{
 "cells": [
  {
   "cell_type": "markdown",
   "metadata": {},
   "source": [
    "Reverse bits of a given 32 bits unsigned integer."
   ]
  },
  {
   "cell_type": "markdown",
   "metadata": {},
   "source": [
    "Note:\n",
    "\n",
    "Note that in some languages, such as Java, there is no unsigned integer type. In this case, both input and output will be given as a signed integer type. They should not affect your implementation, as the integer's internal binary representation is the same, whether it is signed or unsigned.\n",
    "In Java, the compiler represents the signed integers using 2's complement notation. Therefore, in Example 2 above, the input represents the signed integer -3 and the output represents the signed integer -1073741825."
   ]
  },
  {
   "cell_type": "markdown",
   "metadata": {},
   "source": [
    "Follow up: If this function is called many times, how would you optimize it"
   ]
  },
  {
   "cell_type": "code",
   "execution_count": null,
   "metadata": {},
   "outputs": [],
   "source": [
    "def reverseBits(n):\n",
    "    print(f'binary number------{n:0>32b} = {n}')\n",
    "\n",
    "    binary = f'{n:0>32b}' # lấy chuỗi binary trừ '0b'\n",
    "\n",
    "    def recursiveBits(bits):\n",
    "        if len(bits) <= 1:\n",
    "            return bits\n",
    "\n",
    "        mid = len(bits) // 2 \n",
    "        left = recursiveBits(bits[:mid]) # đảo nữa trái\n",
    "        right = recursiveBits(bits[mid:]) # đảo nữa phải\n",
    "        return right + left\n",
    "\n",
    "    bitReverse = recursiveBits(binary)\n",
    "    return int(bitReverse,2), bitReverse # chuyển chuỗi binary cơ số 2 sang số nguyên\n"
   ]
  },
  {
   "cell_type": "code",
   "execution_count": null,
   "metadata": {},
   "outputs": [],
   "source": [
    "n = 0b00000010100101000001111010011100\n",
    "reverseBits(n)"
   ]
  },
  {
   "cell_type": "code",
   "execution_count": null,
   "metadata": {},
   "outputs": [],
   "source": [
    "n = 0b11111111111111111111111111111101\n",
    "reverseBits(n)"
   ]
  }
 ],
 "metadata": {
  "kernelspec": {
   "display_name": "_imagesearchVenv",
   "language": "python",
   "name": "python3"
  },
  "language_info": {
   "name": "python",
   "version": "3.12.5"
  }
 },
 "nbformat": 4,
 "nbformat_minor": 2
}
