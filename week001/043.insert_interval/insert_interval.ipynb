{
 "cells": [
  {
   "cell_type": "markdown",
   "metadata": {},
   "source": [
    "You are given an array of non-overlapping intervals intervals where intervals[i] = [starti, endi] represent the start and the end of the ith interval and intervals is sorted in ascending order by starti. You are also given an interval newInterval = [start, end] that represents the start and end of another interval.\n",
    "\n",
    "Insert newInterval into intervals such that intervals is still sorted in ascending order by starti and intervals still does not have any overlapping intervals (merge overlapping intervals if necessary).\n",
    "\n",
    "Return intervals after the insertion."
   ]
  },
  {
   "cell_type": "markdown",
   "metadata": {},
   "source": [
    "Note that you don't need to modify intervals in-place. You can make a new array and return it."
   ]
  },
  {
   "cell_type": "code",
   "execution_count": 22,
   "metadata": {},
   "outputs": [],
   "source": [
    "def insert(intervals, newInterval):\n",
    "    \n",
    "    merge = []\n",
    "    idx = 0\n",
    "\n",
    "    while idx < len(intervals) and intervals[idx][1] < newInterval[0]:  # kiểm tra những khoảng start: end nằm ngoài và nhỏ hơn khoảng newinterval\n",
    "        merge.append(intervals[idx]) # cập nhật vào merge\n",
    "        idx += 1 # cập nhật idx\n",
    "\n",
    "    while idx < len(intervals) and intervals[idx][0] <= newInterval[1]:  #kiểm tra những khoảng start: end của intervals chồng lên newinterval hay không\n",
    "        newInterval[0] = min(intervals[idx][0], newInterval[0]) # cập nhật start của newinterval\n",
    "        newInterval[1] = max(intervals[idx][1], newInterval[1]) # Cập nhật end của newinterval\n",
    "\n",
    "        idx += 1 # cập nhật idx\n",
    "    \n",
    "    merge.append(newInterval) # cập nhật vào merge khoảng thời gian đã được cập nhật\n",
    "\n",
    "    while idx < len(intervals): \n",
    "        merge.append(intervals[idx]) # cập nhạt vào merge những khoảng thời gian còn lại\n",
    "        idx += 1 # cập nhật idx\n",
    "\n",
    "    return merge\n",
    "        "
   ]
  },
  {
   "cell_type": "code",
   "execution_count": 24,
   "metadata": {},
   "outputs": [
    {
     "data": {
      "text/plain": [
       "[[1, 5], [6, 9]]"
      ]
     },
     "execution_count": 24,
     "metadata": {},
     "output_type": "execute_result"
    }
   ],
   "source": [
    "intervals = [[1,3],[6,9]]\n",
    "newInterval = [2,5]\n",
    "insert(intervals,newInterval)"
   ]
  },
  {
   "cell_type": "code",
   "execution_count": 23,
   "metadata": {},
   "outputs": [
    {
     "data": {
      "text/plain": [
       "[[1, 2], [3, 10], [12, 16]]"
      ]
     },
     "execution_count": 23,
     "metadata": {},
     "output_type": "execute_result"
    }
   ],
   "source": [
    "intervals = [[1,2],[3,5],[6,7],[8,10],[12,16]]\n",
    "newInterval = [4,8]\n",
    "insert(intervals,newInterval)"
   ]
  }
 ],
 "metadata": {
  "kernelspec": {
   "display_name": "_imagesearchVenv",
   "language": "python",
   "name": "python3"
  },
  "language_info": {
   "codemirror_mode": {
    "name": "ipython",
    "version": 3
   },
   "file_extension": ".py",
   "mimetype": "text/x-python",
   "name": "python",
   "nbconvert_exporter": "python",
   "pygments_lexer": "ipython3",
   "version": "3.12.5"
  }
 },
 "nbformat": 4,
 "nbformat_minor": 2
}
