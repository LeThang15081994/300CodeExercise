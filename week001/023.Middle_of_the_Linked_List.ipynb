{
 "cells": [
  {
   "cell_type": "markdown",
   "metadata": {},
   "source": [
    "Given the head of a singly linked list, return the middle node of the linked list.\n",
    "\n",
    "If there are two middle nodes, return the second middle node."
   ]
  },
  {
   "cell_type": "markdown",
   "metadata": {},
   "source": [
    "Sử dụng phương pháp 2 con trỏ: \n",
    "1. con trỏ slow. mỗi lần đi sẽ đi một node.\n",
    "2. con trỏ fast. mỗi lần đi sẽ đi 2 node."
   ]
  },
  {
   "cell_type": "code",
   "execution_count": 34,
   "metadata": {},
   "outputs": [],
   "source": [
    "class Node:\n",
    "    def __init__(self, value):\n",
    "        self.value = value  # Giá trị của nút\n",
    "        self.next = None    # Con trỏ đến nút tiếp theo"
   ]
  },
  {
   "cell_type": "code",
   "execution_count": 65,
   "metadata": {},
   "outputs": [],
   "source": [
    "class SinglyLinkedList:\n",
    "    def __init__(self):\n",
    "        self.head = None    # Khởi tạo head của danh sách liên kết đơn\n",
    "\n",
    "    def append(self, value):\n",
    "        new_node = Node(value)  # Tạo một nút mới\n",
    "\n",
    "        if not self.head:       # Nếu danh sách rỗng\n",
    "            self.head = new_node\n",
    "            return\n",
    "        \n",
    "        current = self.head\n",
    "\n",
    "        while current.next:     # Duyệt đến nút cuối cùng\n",
    "            current = current.next\n",
    "\n",
    "        current.next = new_node # Gán nút mới vào cuối danh sách\n",
    "\n",
    "    def print_list(self, start_node = None):\n",
    "        \"\"\" In ra danh sách liên kết cho đến khi gặp vòng lặp hoặc đạt giới hạn. \"\"\"\n",
    "        current = start_node if start_node else self.head\n",
    "        while current:\n",
    "            print(current.value, end=' -> ')\n",
    "            current = current.next\n",
    "        \n",
    "        print(\"NULL\")\n",
    "\n",
    "    def middleNode(self):\n",
    "        if not self.head:\n",
    "            return 0 # Nếu danh sách rỗng, không có vòng lặp\n",
    "\n",
    "        slow = self.head\n",
    "        fast = self.head\n",
    "\n",
    "        while fast and fast.next:\n",
    "            slow = slow.next # Di chuyển chậm hơn\n",
    "            fast = fast.next.next  # Di chuyển nhanh hơn\n",
    "       \n",
    "        return slow\n",
    "    "
   ]
  },
  {
   "cell_type": "code",
   "execution_count": 71,
   "metadata": {},
   "outputs": [
    {
     "name": "stdout",
     "output_type": "stream",
     "text": [
      "1 -> 2 -> 3 -> 4 -> 5 -> NULL\n",
      "3\n",
      "3 -> 4 -> 5 -> NULL\n"
     ]
    }
   ],
   "source": [
    "head = [1,2,3,4,5]\n",
    "linked_list = SinglyLinkedList()\n",
    "\n",
    "for val in head:\n",
    "    linked_list.append(val)\n",
    "\n",
    "linked_list.print_list()\n",
    "lst = linked_list.middleNode()\n",
    "print(lst.value)\n",
    "linked_list.print_list(lst)\n",
    "    "
   ]
  },
  {
   "cell_type": "code",
   "execution_count": 70,
   "metadata": {},
   "outputs": [
    {
     "name": "stdout",
     "output_type": "stream",
     "text": [
      "1 -> 2 -> 3 -> 4 -> 5 -> 6 -> NULL\n",
      "4\n",
      "4 -> 5 -> 6 -> NULL\n"
     ]
    }
   ],
   "source": [
    "head = [1,2,3,4,5,6]\n",
    "linked_list = SinglyLinkedList()\n",
    "\n",
    "for val in head:\n",
    "    linked_list.append(val)\n",
    "\n",
    "linked_list.print_list()\n",
    "lst = linked_list.middleNode()\n",
    "print(lst.value)\n",
    "linked_list.print_list(lst)"
   ]
  }
 ],
 "metadata": {
  "kernelspec": {
   "display_name": "_imagesearchVenv",
   "language": "python",
   "name": "python3"
  },
  "language_info": {
   "codemirror_mode": {
    "name": "ipython",
    "version": 3
   },
   "file_extension": ".py",
   "mimetype": "text/x-python",
   "name": "python",
   "nbconvert_exporter": "python",
   "pygments_lexer": "ipython3",
   "version": "3.12.5"
  }
 },
 "nbformat": 4,
 "nbformat_minor": 2
}
