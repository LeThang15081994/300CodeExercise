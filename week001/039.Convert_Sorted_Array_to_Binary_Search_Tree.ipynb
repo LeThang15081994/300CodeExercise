{
 "cells": [
  {
   "cell_type": "markdown",
   "metadata": {},
   "source": [
    "Given an integer array nums where the elements are sorted in ascending order, convert it to a height-balanced binary search tree."
   ]
  },
  {
   "cell_type": "code",
   "execution_count": 9,
   "metadata": {},
   "outputs": [],
   "source": [
    "from collections import deque\n",
    "# Khởi tạo class Treenode\n",
    "class TreeNode(object):\n",
    "    def __init__(self, val=0):\n",
    "        self.val = val\n",
    "        self.left = None\n",
    "        self.right = None"
   ]
  },
  {
   "cell_type": "code",
   "execution_count": 10,
   "metadata": {},
   "outputs": [],
   "source": [
    "def insertBST(rootnode,val): # khởi tạo hàm chèn thêm giá trị vào treenode\n",
    "\n",
    "    current = rootnode # khởi tạo con trỏ current \n",
    "\n",
    "    while True:\n",
    "        if val < current.val: # kiểm tra giá trị val có nhỏ hơn giá trị current hiện tại không\n",
    "            if not current.left: # kiểm tra giá trị current bên trái có rỗng không\n",
    "                current.left = TreeNode(val) # gán giá trị hiện tại vào giá trị bên trái\n",
    "                break\n",
    "\n",
    "            current = current.left # gán current bên trái vào giá trị current hiện tai\n",
    "            \n",
    "        else:\n",
    "            if not current.right: # kiểm tra giá trị current bên phải có rỗng không\n",
    "                current.right = TreeNode(val) # gán giá trị hiện tại vào giá trị bên phải\n",
    "                break\n",
    "\n",
    "            current = current.right # gán current bên phải vào giá trị current hiện tai\n",
    "\n",
    "    return rootnode"
   ]
  },
  {
   "cell_type": "code",
   "execution_count": 30,
   "metadata": {},
   "outputs": [],
   "source": [
    "def LsttoBST(data): # Khởi tạo hàm chuyển đổi list sang tree node\n",
    "    \n",
    "    if not data:\n",
    "        return None\n",
    "    \n",
    "    root = TreeNode(data[len(data)//2])\n",
    "    data = [x for x in lst if x != data[len(data)//2]] # khởi tạo root node là giá trị đầu tiên của list\n",
    "    for num in data:\n",
    "        insertBST(root,num) # chèn các giá trị của list vào treenode thông qua hàm insertBST\n",
    "    return root"
   ]
  },
  {
   "cell_type": "code",
   "execution_count": 15,
   "metadata": {},
   "outputs": [],
   "source": [
    "def print_tree(node, level=0, prefix=\"Root:\"):\n",
    "    if node is not None:\n",
    "        print(\" \" * (level * 4) + prefix + str(node.val))\n",
    "        print_tree(node.left, level + 1, prefix=\"L--- \")\n",
    "        print_tree(node.right, level + 1, prefix=\"R--- \")"
   ]
  },
  {
   "cell_type": "code",
   "execution_count": 17,
   "metadata": {},
   "outputs": [],
   "source": [
    "def sortedArrayToBST(nums):\n",
    "    pass"
   ]
  },
  {
   "cell_type": "code",
   "execution_count": 37,
   "metadata": {},
   "outputs": [
    {
     "name": "stdout",
     "output_type": "stream",
     "text": [
      "[9, 5, 0, -3, -10]\n",
      "Root:0\n",
      "    L--- -3\n",
      "        L--- -10\n",
      "    R--- 9\n",
      "        L--- 5\n"
     ]
    }
   ],
   "source": [
    "lst = [-10,-3,0,5,9]\n",
    "lst = sorted(lst, reverse=True)\n",
    "print(lst)\n",
    "current = LsttoBST(lst)\n",
    "print_tree(current)"
   ]
  },
  {
   "cell_type": "code",
   "execution_count": 38,
   "metadata": {},
   "outputs": [
    {
     "name": "stdout",
     "output_type": "stream",
     "text": [
      "[-10, -3, 0, 5, 9]\n",
      "Root:0\n",
      "    L--- -10\n",
      "        R--- -3\n",
      "    R--- 5\n",
      "        R--- 9\n"
     ]
    }
   ],
   "source": [
    "lst = [-10,-3,0,5,9]\n",
    "#lst = sorted(lst, reverse=True)\n",
    "print(lst)\n",
    "current = LsttoBST(lst)\n",
    "print_tree(current)"
   ]
  },
  {
   "cell_type": "code",
   "execution_count": 39,
   "metadata": {},
   "outputs": [
    {
     "name": "stdout",
     "output_type": "stream",
     "text": [
      "[3, 1]\n",
      "Root:1\n",
      "    R--- 3\n"
     ]
    }
   ],
   "source": [
    "lst = [1,3]\n",
    "lst = sorted(lst, reverse=True)\n",
    "print(lst)\n",
    "current = LsttoBST(lst)\n",
    "print_tree(current)"
   ]
  },
  {
   "cell_type": "code",
   "execution_count": 40,
   "metadata": {},
   "outputs": [
    {
     "name": "stdout",
     "output_type": "stream",
     "text": [
      "[1, 3]\n",
      "Root:3\n",
      "    L--- 1\n"
     ]
    }
   ],
   "source": [
    "lst = [1,3]\n",
    "#lst = sorted(lst, reverse=True)\n",
    "print(lst)\n",
    "current = LsttoBST(lst)\n",
    "print_tree(current)"
   ]
  }
 ],
 "metadata": {
  "kernelspec": {
   "display_name": "_imagesearchVenv",
   "language": "python",
   "name": "python3"
  },
  "language_info": {
   "codemirror_mode": {
    "name": "ipython",
    "version": 3
   },
   "file_extension": ".py",
   "mimetype": "text/x-python",
   "name": "python",
   "nbconvert_exporter": "python",
   "pygments_lexer": "ipython3",
   "version": "3.12.5"
  }
 },
 "nbformat": 4,
 "nbformat_minor": 2
}
