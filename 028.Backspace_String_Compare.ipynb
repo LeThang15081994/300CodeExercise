{
 "cells": [
  {
   "cell_type": "markdown",
   "metadata": {},
   "source": [
    "Given two strings s and t, return true if they are equal when both are typed into empty text editors. '#' means a backspace character.\n",
    "\n",
    "Note that after backspacing an empty text, the text will continue empty."
   ]
  },
  {
   "cell_type": "code",
   "execution_count": 19,
   "metadata": {},
   "outputs": [],
   "source": [
    "def backspaceCompare(str1, str2):\n",
    "    stack_str1 = []\n",
    "    stack_str2 = []\n",
    "\n",
    "    for idx in range(max(len(str1),len(str2))):\n",
    "        if idx < len(str1):\n",
    "            if str1[idx] == '#':\n",
    "                if stack_str1:\n",
    "                    stack_str1.pop()\n",
    "            else:\n",
    "                stack_str1.append(str1[idx])\n",
    "    \n",
    "        if idx < len(str2):\n",
    "            if str2[idx] == '#':\n",
    "                if stack_str1:\n",
    "                    stack_str2.pop()\n",
    "            else:\n",
    "                stack_str2.append(str2[idx])\n",
    "    \n",
    "    return ''.join(stack_str1) == ''.join(stack_str2)"
   ]
  },
  {
   "cell_type": "code",
   "execution_count": 20,
   "metadata": {},
   "outputs": [
    {
     "data": {
      "text/plain": [
       "True"
      ]
     },
     "execution_count": 20,
     "metadata": {},
     "output_type": "execute_result"
    }
   ],
   "source": [
    "s = \"ab#c\"\n",
    "t = \"ad#c\"\n",
    "\n",
    "backspaceCompare(s,t)"
   ]
  },
  {
   "cell_type": "code",
   "execution_count": 21,
   "metadata": {},
   "outputs": [
    {
     "data": {
      "text/plain": [
       "False"
      ]
     },
     "execution_count": 21,
     "metadata": {},
     "output_type": "execute_result"
    }
   ],
   "source": [
    "s = \"ab##\"\n",
    "t = \"c#d#\"\n",
    "\n",
    "backspaceCompare(s,t)"
   ]
  },
  {
   "cell_type": "code",
   "execution_count": 18,
   "metadata": {},
   "outputs": [
    {
     "data": {
      "text/plain": [
       "False"
      ]
     },
     "execution_count": 18,
     "metadata": {},
     "output_type": "execute_result"
    }
   ],
   "source": [
    "s = \"a#c\"\n",
    "t = \"b\"\n",
    "\n",
    "backspaceCompare(s,t)"
   ]
  }
 ],
 "metadata": {
  "kernelspec": {
   "display_name": "Python 3",
   "language": "python",
   "name": "python3"
  },
  "language_info": {
   "codemirror_mode": {
    "name": "ipython",
    "version": 3
   },
   "file_extension": ".py",
   "mimetype": "text/x-python",
   "name": "python",
   "nbconvert_exporter": "python",
   "pygments_lexer": "ipython3",
   "version": "3.11.9"
  }
 },
 "nbformat": 4,
 "nbformat_minor": 2
}
