{
 "cells": [
  {
   "cell_type": "markdown",
   "metadata": {},
   "source": [
    "Given the root of a binary seach tree, invert the tree, and return its root.\n",
    "(Cho gốc của một cây nhị phân tìm kiếm, hãy đảo ngược và trả về gốc của nó)"
   ]
  },
  {
   "cell_type": "code",
   "execution_count": 1,
   "metadata": {},
   "outputs": [],
   "source": [
    "# Khởi tạo class Treenode\n",
    "class TreeNode(object):\n",
    "    def __init__(self, val=0, left=None,right=None):\n",
    "        self.val = val\n",
    "        self.left = left\n",
    "        self.right = right"
   ]
  },
  {
   "cell_type": "code",
   "execution_count": 2,
   "metadata": {},
   "outputs": [],
   "source": [
    "n1 = TreeNode(\"root node\")\n",
    "n2 = TreeNode(\"left child node\")\n",
    "n3 = TreeNode(\"right child node\")\n",
    "n4 = TreeNode(\"left grandchild node\")"
   ]
  },
  {
   "cell_type": "code",
   "execution_count": 3,
   "metadata": {},
   "outputs": [],
   "source": [
    "n1.left = n2\n",
    "n1.right = n3\n",
    "n2.left= n4"
   ]
  },
  {
   "cell_type": "code",
   "execution_count": 4,
   "metadata": {},
   "outputs": [
    {
     "name": "stdout",
     "output_type": "stream",
     "text": [
      "<__main__.TreeNode object at 0x000001C1F7895B10>\n"
     ]
    }
   ],
   "source": [
    "print(n1.left)"
   ]
  },
  {
   "cell_type": "code",
   "execution_count": 5,
   "metadata": {},
   "outputs": [
    {
     "name": "stdout",
     "output_type": "stream",
     "text": [
      "root node\n",
      "left child node\n",
      "left grandchild node\n"
     ]
    }
   ],
   "source": [
    "current = n1\n",
    "while current:\n",
    "    print(current.val)\n",
    "    current = current.left"
   ]
  },
  {
   "cell_type": "code",
   "execution_count": 6,
   "metadata": {},
   "outputs": [],
   "source": [
    "def insertBST(rootnode,val): # khởi tạo hàm chèn thêm giá trị vào treenode\n",
    "\n",
    "    current = rootnode # khởi tạo con trỏ current \n",
    "\n",
    "    if val < current.val: # kiểm tra giá trị val có nhỏ hơn giá trị current hiện tại không\n",
    "        if not current.left: # kiểm tra giá trị current bên trái có rỗng không\n",
    "            current.left = TreeNode(val) # gán giá trị hiện tại vào giá trị bên trái\n",
    "        else:\n",
    "            current = current.left # gán current bên trái vào giá trị current hiện tai\n",
    "        \n",
    "    else:\n",
    "        if not current.right:\n",
    "            current.right = val\n",
    "        else:\n",
    "            current = current.right\n",
    "\n",
    "    return rootnode"
   ]
  },
  {
   "cell_type": "code",
   "execution_count": 7,
   "metadata": {},
   "outputs": [],
   "source": [
    "def LsttoBST(data): # Khởi tạo hàm chuyển đổi list sang tree node\n",
    "    root = TreeNode(data[0]) # khởi tạo root node là giá trị đầu tiên của list\n",
    "    for num in data[1:]:\n",
    "        insertBST(root,num) # chèn các giá trị cảu list vào treenode thông qua hàm insertBST\n",
    "    return root\n"
   ]
  },
  {
   "cell_type": "code",
   "execution_count": 9,
   "metadata": {},
   "outputs": [
    {
     "name": "stdout",
     "output_type": "stream",
     "text": [
      "4\n",
      "2\n"
     ]
    }
   ],
   "source": [
    "lst = [4,2,7,1,3,6,9]\n",
    "\n",
    "current = LsttoBST(lst)\n",
    "while current:\n",
    "    print(current.val)\n",
    "    current = current.left"
   ]
  },
  {
   "cell_type": "markdown",
   "metadata": {},
   "source": [
    "- https://www.youtube.com/watch?v=TlEqqkszRtQ\n",
    "- https://viblo.asia/p/chuong-6-trees-1-tree-la-gi-ly-thuyet-ve-binary-tree-obA46PM9LKv"
   ]
  }
 ],
 "metadata": {
  "kernelspec": {
   "display_name": "Python 3",
   "language": "python",
   "name": "python3"
  },
  "language_info": {
   "codemirror_mode": {
    "name": "ipython",
    "version": 3
   },
   "file_extension": ".py",
   "mimetype": "text/x-python",
   "name": "python",
   "nbconvert_exporter": "python",
   "pygments_lexer": "ipython3",
   "version": "3.11.9"
  }
 },
 "nbformat": 4,
 "nbformat_minor": 2
}
