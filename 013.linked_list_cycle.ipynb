{
 "cells": [
  {
   "cell_type": "markdown",
   "metadata": {},
   "source": [
    "Given head, the head of a linked list, determine if the linked list has a cycle in it.\n",
    "There is a cycle in a linked list if there is some node in the list that can be reached again by continuously following the next pointer. Internally, pos is used to denote the index of the node that tail's next pointer is connected to. Note that pos is not passed as a parameter.\n",
    "\n",
    "Return true if there is a cycle in the linked list. Otherwise, return false."
   ]
  },
  {
   "cell_type": "markdown",
   "metadata": {},
   "source": [
    "Sử dụng phương pháp 2 con trỏ: \n",
    "1. con trỏ slow. mỗi lần đi sẽ đi một node.\n",
    "2. con trỏ fast. mỗi lần đi sẽ đi 2 node.\n",
    "\n",
    "thuật toán Floyd’s Tortoise and Hare"
   ]
  },
  {
   "cell_type": "code",
   "execution_count": 1,
   "metadata": {},
   "outputs": [],
   "source": [
    "class Node:\n",
    "    def __init__(self, value):\n",
    "        self.value = value  # Giá trị của nút\n",
    "        self.next = None    # Con trỏ đến nút tiếp theo"
   ]
  },
  {
   "cell_type": "code",
   "execution_count": 27,
   "metadata": {},
   "outputs": [],
   "source": [
    "class SinglyLinkedList:\n",
    "    def __init__(self):\n",
    "        self.head = None    # Khởi tạo head của danh sách liên kết đơn\n",
    "\n",
    "    def append(self, value):\n",
    "        new_node = Node(value)  # Tạo một nút mới\n",
    "\n",
    "        if not self.head:       # Nếu danh sách rỗng\n",
    "            self.head = new_node\n",
    "            return\n",
    "        \n",
    "        current = self.head\n",
    "\n",
    "        while current.next:     # Duyệt đến nút cuối cùng\n",
    "            current = current.next\n",
    "\n",
    "        current.next = new_node # Gán nút mới vào cuối danh sách\n",
    "    \n",
    "    def create_loop(self, pos):\n",
    "        if pos < 0:\n",
    "            return \n",
    "        \n",
    "        loop_node = self.head\n",
    "        for _ in range(pos):\n",
    "            if not loop_node:\n",
    "                return\n",
    "            loop_node = loop_node.next\n",
    "        \n",
    "        # Nếu vòng lặp tồn tại\n",
    "        if loop_node:\n",
    "            current = self.head\n",
    "            while current.next:\n",
    "                current = current.next\n",
    "            current.next = loop_node  # Tạo vòng lặp\n",
    "\n",
    "    def print_list(self, limit = 10):\n",
    "        \"\"\" In ra danh sách liên kết cho đến khi gặp vòng lặp hoặc đạt giới hạn. \"\"\"\n",
    "        current = self.head\n",
    "        count = 0\n",
    "        while current and count < limit:\n",
    "            print(current.value, end=' -> ')\n",
    "            current = current.next\n",
    "            count += 1\n",
    "        if current:\n",
    "            print(\"... (vòng lặp)\")\n",
    "        else:\n",
    "            print(\"None\")\n",
    "\n",
    "    \n",
    "    def iscyle_linklist(self):\n",
    "        \"\"\"kiểm tra danh sách kiên kết đơn có phải là một danh sách có vòng lặp.\n",
    "\n",
    "        Args: \n",
    "            input: là một danh sách đơn\n",
    "         \n",
    "        Return: \n",
    "            True nếu có vòng lặp. Ngược lại là: False \n",
    "        \n",
    "        \"\"\"\n",
    "        if not self.head:\n",
    "            return False # Nếu danh sách rỗng, không có vòng lặp\n",
    "        \n",
    "        slow = self.head\n",
    "        fast = self.head\n",
    "\n",
    "        while fast and fast.next:\n",
    "            slow = slow.next # Di chuyển chậm hơn\n",
    "            fast = fast.next.next  # Di chuyển nhanh hơn\n",
    "            \n",
    "            if slow == fast:\n",
    "                return True, f'có tồn tại vòng lặp:' # Danh sách có vòng lặp\n",
    "        \n",
    "        return False, f'không tồn tại vòng lặp:'"
   ]
  },
  {
   "cell_type": "code",
   "execution_count": 34,
   "metadata": {},
   "outputs": [
    {
     "name": "stdout",
     "output_type": "stream",
     "text": [
      "3 -> 2 -> 0 -> -4 -> 2 -> 0 -> -4 -> 2 -> 0 -> -4 -> ... (vòng lặp)\n"
     ]
    },
    {
     "data": {
      "text/plain": [
       "(True, 'có tồn tại vòng lặp:')"
      ]
     },
     "execution_count": 34,
     "metadata": {},
     "output_type": "execute_result"
    }
   ],
   "source": [
    "linked_list = SinglyLinkedList()\n",
    "values = [3, 2, 0, -4]\n",
    "\n",
    "for value in values:\n",
    "    linked_list.append(value)\n",
    "linked_list.create_loop(1) # lặp tại vị trí 1\n",
    "linked_list.print_list()\n",
    "\n",
    "linked_list.iscyle_linklist()"
   ]
  },
  {
   "cell_type": "code",
   "execution_count": 29,
   "metadata": {},
   "outputs": [
    {
     "name": "stdout",
     "output_type": "stream",
     "text": [
      "1 -> 2 -> 1 -> 2 -> 1 -> 2 -> 1 -> 2 -> 1 -> 2 -> ... (vòng lặp)\n"
     ]
    },
    {
     "data": {
      "text/plain": [
       "(True, 'có tồn tại vòng lặp:')"
      ]
     },
     "execution_count": 29,
     "metadata": {},
     "output_type": "execute_result"
    }
   ],
   "source": [
    "linked_list = SinglyLinkedList()\n",
    "values = [1,2]\n",
    "\n",
    "for value in values:\n",
    "    linked_list.append(value)\n",
    "\n",
    "linked_list.create_loop(0) # lặp tại vị trí 0\n",
    "linked_list.print_list()\n",
    "linked_list.iscyle_linklist()\n"
   ]
  },
  {
   "cell_type": "code",
   "execution_count": 30,
   "metadata": {},
   "outputs": [
    {
     "name": "stdout",
     "output_type": "stream",
     "text": [
      "1 -> None\n"
     ]
    },
    {
     "data": {
      "text/plain": [
       "(False, 'không tồn tại vòng lặp:')"
      ]
     },
     "execution_count": 30,
     "metadata": {},
     "output_type": "execute_result"
    }
   ],
   "source": [
    "linked_list = SinglyLinkedList()\n",
    "values = [1]\n",
    "\n",
    "for value in values:\n",
    "    linked_list.append(value)\n",
    "\n",
    "linked_list.create_loop(-1) # lặp tại vị trí 0\n",
    "linked_list.print_list()\n",
    "linked_list.iscyle_linklist()\n"
   ]
  }
 ],
 "metadata": {
  "kernelspec": {
   "display_name": "_imagesearchVenv",
   "language": "python",
   "name": "python3"
  },
  "language_info": {
   "codemirror_mode": {
    "name": "ipython",
    "version": 3
   },
   "file_extension": ".py",
   "mimetype": "text/x-python",
   "name": "python",
   "nbconvert_exporter": "python",
   "pygments_lexer": "ipython3",
   "version": "3.12.5"
  }
 },
 "nbformat": 4,
 "nbformat_minor": 2
}
