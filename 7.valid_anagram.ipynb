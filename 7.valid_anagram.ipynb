{
 "cells": [
  {
   "cell_type": "markdown",
   "metadata": {},
   "source": [
    "# Given two strings s and t, \n",
    "# return true if t is an anagram of s, \n",
    "# and false otherwise."
   ]
  },
  {
   "cell_type": "markdown",
   "metadata": {},
   "source": [
    "Cách 1-----------------------------------------------------------------------------------------------"
   ]
  },
  {
   "cell_type": "code",
   "execution_count": 2,
   "metadata": {},
   "outputs": [],
   "source": [
    "def isAnagram(str1, str2):\n",
    "\n",
    "        if len(str1) != len(str2): # so sánh độ dài hai chuỗi.\n",
    "             return False\n",
    "\n",
    "        res1 = sorted(str1) # Sử dụng sorted để sắp xếp lại chuỗi 1.\n",
    "        res2 = sorted(str2) # Sử dụng sorted để sắp xếp lại chuỗi 2.\n",
    "        if res1 == res2: # So sánh hai list.\n",
    "            return True\n",
    "        else:\n",
    "            return False"
   ]
  },
  {
   "cell_type": "code",
   "execution_count": 3,
   "metadata": {},
   "outputs": [
    {
     "data": {
      "text/plain": [
       "True"
      ]
     },
     "execution_count": 3,
     "metadata": {},
     "output_type": "execute_result"
    }
   ],
   "source": [
    "s = \"anagram\"\n",
    "t = \"nagaram\"\n",
    "isAnagram(s,t)"
   ]
  },
  {
   "cell_type": "code",
   "execution_count": 4,
   "metadata": {},
   "outputs": [
    {
     "data": {
      "text/plain": [
       "False"
      ]
     },
     "execution_count": 4,
     "metadata": {},
     "output_type": "execute_result"
    }
   ],
   "source": [
    "s = \"rat\"\n",
    "t = \"car\"\n",
    "isAnagram(s,t)"
   ]
  },
  {
   "cell_type": "markdown",
   "metadata": {},
   "source": [
    "Cách 2-----------------------------------------------------------------------------------------------"
   ]
  },
  {
   "cell_type": "code",
   "execution_count": 5,
   "metadata": {},
   "outputs": [],
   "source": [
    "def isAnagram_2(str1, str2):\n",
    "    if len(str1) != len(str2): # so sánh độ dài hai chuỗi.\n",
    "            return False\n",
    "    \n",
    "    count = [0] * 26 # tạo một list count để đếm tần xuất xuất hiện trong chuỗi s và t với các ký tự từ a - z\n",
    "\n",
    "    for char_str1, char_str2 in zip(str1,str2):\n",
    "         count[ord(char_str1) - ord('a')] += 1 # Tăng đếm số ký tự trong chuỗi str1\n",
    "         count[ord(char_str2) - ord('a')] -= 1 # Giảm đếm số ký tự trong chuỗi str2\n",
    "\n",
    "    return all(index == 0 for index in count) # Kiểm tra xem tất cả các giá trị trong bảng đếm có bằng 0 hay không"
   ]
  },
  {
   "cell_type": "code",
   "execution_count": 6,
   "metadata": {},
   "outputs": [
    {
     "data": {
      "text/plain": [
       "True"
      ]
     },
     "execution_count": 6,
     "metadata": {},
     "output_type": "execute_result"
    }
   ],
   "source": [
    "s = \"anagram\"\n",
    "t = \"nagaram\"\n",
    "isAnagram_2(s,t)"
   ]
  },
  {
   "cell_type": "code",
   "execution_count": 7,
   "metadata": {},
   "outputs": [
    {
     "data": {
      "text/plain": [
       "False"
      ]
     },
     "execution_count": 7,
     "metadata": {},
     "output_type": "execute_result"
    }
   ],
   "source": [
    "s = \"rat\"\n",
    "t = \"car\"\n",
    "isAnagram_2(s,t)"
   ]
  }
 ],
 "metadata": {
  "kernelspec": {
   "display_name": "_imagesearchVenv",
   "language": "python",
   "name": "python3"
  },
  "language_info": {
   "codemirror_mode": {
    "name": "ipython",
    "version": 3
   },
   "file_extension": ".py",
   "mimetype": "text/x-python",
   "name": "python",
   "nbconvert_exporter": "python",
   "pygments_lexer": "ipython3",
   "version": "3.12.5"
  }
 },
 "nbformat": 4,
 "nbformat_minor": 2
}
