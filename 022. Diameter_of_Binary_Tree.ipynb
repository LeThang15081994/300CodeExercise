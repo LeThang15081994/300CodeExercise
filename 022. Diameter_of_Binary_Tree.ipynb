{
 "cells": [
  {
   "cell_type": "markdown",
   "metadata": {},
   "source": [
    "Given the root of a binary tree, return the length of the diameter of the tree.\n",
    "\n",
    "The diameter of a binary tree is the length of the longest path between any two nodes in a tree. This path may or may not pass through the root.\n",
    "\n",
    "The length of a path between two nodes is represented by the number of edges between them"
   ]
  },
  {
   "cell_type": "code",
   "execution_count": 2,
   "metadata": {},
   "outputs": [],
   "source": [
    "# Khởi tạo class Treenode\n",
    "class TreeNode(object):\n",
    "    def __init__(self, val=0):\n",
    "        self.val = val\n",
    "        self.left = None\n",
    "        self.right = None"
   ]
  },
  {
   "cell_type": "code",
   "execution_count": 11,
   "metadata": {},
   "outputs": [],
   "source": [
    "def insertBST(rootnode,val): # khởi tạo hàm chèn thêm giá trị vào treenode\n",
    "    if val == 'null':  # Bỏ qua giá trị 'null'\n",
    "        return\n",
    "    \n",
    "    current = rootnode # khởi tạo con trỏ current \n",
    "\n",
    "    while True:\n",
    "        if val < current.val: # kiểm tra giá trị val có nhỏ hơn giá trị current hiện tại không\n",
    "            if not current.left: # kiểm tra giá trị current bên trái có rỗng không\n",
    "                current.left = TreeNode(val) # gán giá trị hiện tại vào giá trị bên trái\n",
    "                break\n",
    "\n",
    "            current = current.left # gán current bên trái vào giá trị current hiện tai\n",
    "            \n",
    "        else:\n",
    "            if not current.right: # kiểm tra giá trị current bên phải có rỗng không\n",
    "                current.right = TreeNode(val) # gán giá trị hiện tại vào giá trị bên phải\n",
    "                break\n",
    "\n",
    "            current = current.right # gán current bên phải vào giá trị current hiện tai\n"
   ]
  },
  {
   "cell_type": "code",
   "execution_count": 10,
   "metadata": {},
   "outputs": [],
   "source": [
    "def LsttoBST(data): # Khởi tạo hàm chuyển đổi list sang tree node\n",
    "    \n",
    "    if not data or data[0] == 'null':\n",
    "        return None\n",
    "    \n",
    "    root = TreeNode(data[0]) # khởi tạo root node là giá trị đầu tiên của list\n",
    "    for num in data[1:]:\n",
    "        insertBST(root,num) # chèn các giá trị của list vào treenode thông qua hàm insertBST\n",
    "    return root"
   ]
  },
  {
   "cell_type": "code",
   "execution_count": 12,
   "metadata": {},
   "outputs": [],
   "source": [
    "def print_tree(node, level=0, prefix=\"Root:\"):\n",
    "    if node is not None:\n",
    "        print(\" \" * (level * 4) + prefix + str(node.val))\n",
    "        print_tree(node.left, level + 1, prefix=\"L--- \")\n",
    "        print_tree(node.right, level + 1, prefix=\"R--- \")"
   ]
  },
  {
   "cell_type": "code",
   "execution_count": 13,
   "metadata": {},
   "outputs": [
    {
     "name": "stdout",
     "output_type": "stream",
     "text": [
      "[1, 2, 3, 4, 5]\n",
      "Root:1\n",
      "    R--- 2\n",
      "        R--- 3\n",
      "            R--- 4\n",
      "                R--- 5\n"
     ]
    }
   ],
   "source": [
    "root = [1,2,3,4,5]\n",
    "print(root)\n",
    "lst = LsttoBST(root)\n",
    "print_tree(lst)"
   ]
  }
 ],
 "metadata": {
  "kernelspec": {
   "display_name": "_imagesearchVenv",
   "language": "python",
   "name": "python3"
  },
  "language_info": {
   "codemirror_mode": {
    "name": "ipython",
    "version": 3
   },
   "file_extension": ".py",
   "mimetype": "text/x-python",
   "name": "python",
   "nbconvert_exporter": "python",
   "pygments_lexer": "ipython3",
   "version": "3.12.5"
  }
 },
 "nbformat": 4,
 "nbformat_minor": 2
}
