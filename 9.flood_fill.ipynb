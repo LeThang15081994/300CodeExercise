{
 "cells": [
  {
   "cell_type": "markdown",
   "metadata": {},
   "source": [
    "An image is represented by an m x n integer grid image where image[i][j] represents the pixel value of the image.\n",
    "You are also given three integers sr, sc, and color. You should perform a flood fill on the image starting from the pixel image[sr][sc].\n",
    "\n",
    "To perform a flood fill, consider the starting pixel, plus any pixels connected 4-directionally to the starting pixel of the same color as the starting pixel, \n",
    "plus any pixels connected 4-directionally to those pixels (also with the same color), and so on. Replace the color of all of the aforementioned pixels with color.\n",
    "\n",
    "Return the modified image after performing the flood fill.\n",
    "\n",
    "1   1   1                                                         2   2   2                      \n",
    "1   1   0      sr = 1, sc = 1, newcolor = 2         ========>     2   2   0             \n",
    "1   0   1                                                         2   0   1"
   ]
  },
  {
   "cell_type": "code",
   "execution_count": 4,
   "metadata": {},
   "outputs": [],
   "source": [
    "def solve(image, sr, sc, oldColor, newColor):\n",
    "    if sr < 0 or sc < 0 or sr >= len(image) or sc >= len(image[0]) or oldColor == newColor or image[sr][sc] != oldColor: # điều kiện dừng đệ quy\n",
    "        return\n",
    "\n",
    "    image[sr][sc] = newColor # gán giá trị pix hiện tại cho màu mới\n",
    "    solve(image, sr + 1, sc, oldColor, newColor) # lan toả giá trị mới xuống \n",
    "    solve(image, sr - 1, sc, oldColor, newColor) # lan toả giá trị mới lên\n",
    "    solve(image, sr, sc + 1, oldColor, newColor) # lan toả giá trị mới sang phải\n",
    "    solve(image, sr, sc - 1, oldColor, newColor) # lan toả giá trị mới sang trái"
   ]
  },
  {
   "cell_type": "code",
   "execution_count": 6,
   "metadata": {},
   "outputs": [],
   "source": [
    "def floodfill(image, sr, sc, newColor):\n",
    "    solve(image, sr, sc, image[sr][sc], newColor)\n",
    "    return image"
   ]
  },
  {
   "cell_type": "code",
   "execution_count": 7,
   "metadata": {},
   "outputs": [
    {
     "name": "stdout",
     "output_type": "stream",
     "text": [
      "[2, 2, 2]\n",
      "[2, 2, 0]\n",
      "[2, 0, 1]\n"
     ]
    }
   ],
   "source": [
    "img = [[1,1,1],[1,1,0],[1,0,1]]\n",
    "result_image = floodfill(img, 1, 1, 2)\n",
    "\n",
    "for row in result_image:\n",
    "    print(row)"
   ]
  }
 ],
 "metadata": {
  "kernelspec": {
   "display_name": "_imagesearchVenv",
   "language": "python",
   "name": "python3"
  },
  "language_info": {
   "codemirror_mode": {
    "name": "ipython",
    "version": 3
   },
   "file_extension": ".py",
   "mimetype": "text/x-python",
   "name": "python",
   "nbconvert_exporter": "python",
   "pygments_lexer": "ipython3",
   "version": "3.12.5"
  }
 },
 "nbformat": 4,
 "nbformat_minor": 2
}
