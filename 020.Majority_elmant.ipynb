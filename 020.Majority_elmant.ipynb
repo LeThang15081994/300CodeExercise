{
 "cells": [
  {
   "cell_type": "markdown",
   "metadata": {},
   "source": [
    "Given an array nums of size n, return the majority element.\n",
    "\n",
    "The majority element is the element that appears more than ⌊n / 2⌋ times. You may assume that the majority element always exists in the array.\n",
    "\n",
    "thuật toán Boyer-Moore"
   ]
  },
  {
   "cell_type": "markdown",
   "metadata": {},
   "source": [
    "Cách 1: dùng dictionary"
   ]
  },
  {
   "cell_type": "code",
   "execution_count": 21,
   "metadata": {},
   "outputs": [],
   "source": [
    "def majorityElement(nums):\n",
    "    dic = {}\n",
    "\n",
    "    # Tìm phần tử chiếm ưu thế\n",
    "    for i in nums:\n",
    "        if i in dic:\n",
    "            dic[i] += 1 # nếu phần tử đã xuất hiện thì cộng lên 1\n",
    "        else:\n",
    "            dic[i] = 1 # nếu chưa thì gán bằng 1\n",
    "\n",
    "        if dic[i] > len(nums)/2: # kiểm tra số lần xuất hiện có lớn hơn độ lớn dữ liệu\n",
    "            return i\n",
    "   \n",
    "            "
   ]
  },
  {
   "cell_type": "code",
   "execution_count": 22,
   "metadata": {},
   "outputs": [
    {
     "data": {
      "text/plain": [
       "3"
      ]
     },
     "execution_count": 22,
     "metadata": {},
     "output_type": "execute_result"
    }
   ],
   "source": [
    "lst = [3,2,3]\n",
    "majorityElement(lst)"
   ]
  },
  {
   "cell_type": "code",
   "execution_count": 23,
   "metadata": {},
   "outputs": [
    {
     "data": {
      "text/plain": [
       "2"
      ]
     },
     "execution_count": 23,
     "metadata": {},
     "output_type": "execute_result"
    }
   ],
   "source": [
    "lst = [2,2,1,1,1,2,2]\n",
    "majorityElement(lst)"
   ]
  },
  {
   "cell_type": "markdown",
   "metadata": {},
   "source": [
    "Cách 2: thuật toán Boyer-Moore"
   ]
  },
  {
   "cell_type": "code",
   "execution_count": 24,
   "metadata": {},
   "outputs": [],
   "source": [
    "def Boyer_Moore(nums):\n",
    "    count = 0\n",
    "    candidate = None\n",
    "\n",
    "    # Tìm phần tử chiếm ưu thế\n",
    "    for num in nums:\n",
    "        if count == 0:\n",
    "            candidate = num  # Gán ứng cử viên là phần tử hiện tại\n",
    "        count += (1 if num == candidate else -1)  # Tăng hoặc giảm count\n",
    "\n",
    "    return candidate  # Trả về ứng cử viên"
   ]
  },
  {
   "cell_type": "code",
   "execution_count": 25,
   "metadata": {},
   "outputs": [
    {
     "data": {
      "text/plain": [
       "3"
      ]
     },
     "execution_count": 25,
     "metadata": {},
     "output_type": "execute_result"
    }
   ],
   "source": [
    "lst = [3,2,3]\n",
    "Boyer_Moore(lst)"
   ]
  },
  {
   "cell_type": "code",
   "execution_count": 26,
   "metadata": {},
   "outputs": [
    {
     "data": {
      "text/plain": [
       "2"
      ]
     },
     "execution_count": 26,
     "metadata": {},
     "output_type": "execute_result"
    }
   ],
   "source": [
    "lst = [2,2,1,1,1,2,2]\n",
    "Boyer_Moore(lst)"
   ]
  }
 ],
 "metadata": {
  "kernelspec": {
   "display_name": "_imagesearchVenv",
   "language": "python",
   "name": "python3"
  },
  "language_info": {
   "codemirror_mode": {
    "name": "ipython",
    "version": 3
   },
   "file_extension": ".py",
   "mimetype": "text/x-python",
   "name": "python",
   "nbconvert_exporter": "python",
   "pygments_lexer": "ipython3",
   "version": "3.12.5"
  }
 },
 "nbformat": 4,
 "nbformat_minor": 2
}
