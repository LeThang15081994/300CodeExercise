{
 "cells": [
  {
   "cell_type": "markdown",
   "metadata": {},
   "source": [
    "- mảng cung cấp phải được sorted trước đó"
   ]
  },
  {
   "cell_type": "code",
   "execution_count": 2,
   "metadata": {},
   "outputs": [],
   "source": [
    "# Khởi tạo class listnode\n",
    "class ListNode(object):\n",
    "    def __init__(self, val=0, next=None):\n",
    "        self.val = val\n",
    "        self.next = next"
   ]
  },
  {
   "cell_type": "code",
   "execution_count": 27,
   "metadata": {},
   "outputs": [],
   "source": [
    "# Khởi tạo class Solution\n",
    "class Solution(object):\n",
    "    def mergeTwoLists(self, list1, list2): # khai náo hàm merge\n",
    "        \"\"\"\n",
    "        :type list1: Optional[ListNode]\n",
    "        :type list2: Optional[ListNode]\n",
    "        :rtype: Optional[ListNode]\n",
    "        \"\"\"\n",
    "        dummy = ListNode()  # Tạo một nút giả để đại diện cho nút đầu tiên\n",
    "        current = dummy  # Node hiện tại để di chuyển trên danh sách mới\n",
    "        \n",
    "        while list1 and list2: \n",
    "        # Vòng lặp các phần tử trong hai list\n",
    "            print(list1.val,list2.val)\n",
    "            if list1.val < list2.val: # Kiểm tra nút có giá trị nhỏ hơn.\n",
    "                current.next = list1\n",
    "                list1 = list1.next\n",
    "            else:\n",
    "                current.next = list2\n",
    "                list2 = list2.next\n",
    "\n",
    "            current = current.next    # Di chuyển tới Node tiếp theo\n",
    "            \n",
    "        # Gắn phần còn lại của danh sách không rỗng vào cuối của danh sách kết quả\n",
    "        if list1 is not None:  # Nếu list1 không rỗng\n",
    "            current.next = list1  # Gắn đối tượng đầu tiên của list1 vào current.next\n",
    "        else:\n",
    "            current.next = list2  # Nếu list1 rỗng, gắn đối tượng đầu tiên của list2 vào current.next\n",
    "        return dummy.next\n",
    "        \n"
   ]
  },
  {
   "cell_type": "code",
   "execution_count": 3,
   "metadata": {},
   "outputs": [],
   "source": [
    "def create_linked_list(nums):\n",
    "    dummy = ListNode()  # Tạo một nút giả để đại diện cho nút đầu tiên\n",
    "    current = dummy  # Node hiện tại để di chuyển trên danh sách mới\n",
    "    \n",
    "    # Duyệt qua từng phần tử trong danh sách\n",
    "    for num in nums:\n",
    "        current.next = ListNode(num)  # Tạo một nút mới với giá trị là num\n",
    "        current = current.next  # Di chuyển đến nút tiếp theo trong danh sách mới\n",
    "    \n",
    "    return dummy.next # Trả về danh sách mới (bỏ qua nút giả đầu tiên)"
   ]
  },
  {
   "cell_type": "code",
   "execution_count": 9,
   "metadata": {},
   "outputs": [],
   "source": [
    "#Khai báo list\n",
    "list1 = [1,2,4]\n",
    "list2 = [1,3,4]"
   ]
  },
  {
   "cell_type": "code",
   "execution_count": 28,
   "metadata": {},
   "outputs": [
    {
     "name": "stdout",
     "output_type": "stream",
     "text": [
      "1 1\n",
      "1 3\n",
      "2 3\n",
      "4 3\n",
      "4 4\n",
      "1 -> 1 -> 2 -> 3 -> 4 -> 4 -> "
     ]
    }
   ],
   "source": [
    "head1 = create_linked_list(list1) # chuyển đổi kiểu list sang listNode\n",
    "head2 = create_linked_list(list2) # chuyển đổi kiểu list sang listNode\n",
    "\n",
    "solution = Solution()\n",
    "curr = solution.mergeTwoLists(list1=head1,list2=head2)\n",
    "\n",
    "# In danh sách liên kết đã tạo\n",
    "while curr:\n",
    "    print(curr.val, end=\" -> \")\n",
    "    curr = curr.next"
   ]
  },
  {
   "cell_type": "code",
   "execution_count": 122,
   "metadata": {},
   "outputs": [],
   "source": [
    "#Khai báo list\n",
    "list3 = []\n",
    "list4 = []"
   ]
  },
  {
   "cell_type": "code",
   "execution_count": 123,
   "metadata": {},
   "outputs": [],
   "source": [
    "head1 = create_linked_list(list3) # chuyển đổi kiểu list sang listNode\n",
    "head2 = create_linked_list(list4) # chuyển đổi kiểu list sang listNode\n",
    "\n",
    "solution = Solution()\n",
    "curr = solution.mergeTwoLists(list1=head1,list2=head2)\n",
    "\n",
    "# In danh sách liên kết đã tạo\n",
    "while curr:\n",
    "    print(curr.val, end=\" -> \")\n",
    "    curr = curr.next"
   ]
  },
  {
   "cell_type": "code",
   "execution_count": 125,
   "metadata": {},
   "outputs": [],
   "source": [
    "#Khai báo list\n",
    "list5 = []\n",
    "list6 = [0]"
   ]
  },
  {
   "cell_type": "code",
   "execution_count": 126,
   "metadata": {},
   "outputs": [
    {
     "name": "stdout",
     "output_type": "stream",
     "text": [
      "0 -> "
     ]
    }
   ],
   "source": [
    "head1 = create_linked_list(list5) # chuyển đổi kiểu list sang listNode\n",
    "head2 = create_linked_list(list6) # chuyển đổi kiểu list sang listNode\n",
    "\n",
    "solution = Solution()\n",
    "curr = solution.mergeTwoLists(list1=head1,list2=head2)\n",
    "\n",
    "# In danh sách liên kết đã tạo\n",
    "while curr:\n",
    "    print(curr.val, end=\" -> \")\n",
    "    curr = curr.next"
   ]
  },
  {
   "cell_type": "markdown",
   "metadata": {},
   "source": [
    "- Danh sách liên kết: https://www.geeksforgeeks.org/data-structures/linked-list/\n",
    "- Con trỏ và tham chiếu: \n",
    "        https://realpython.com/pointers-in-python/\n",
    "        https://www.geeksforgeeks.org/using-pointers-in-python-using-ctypes/\n",
    "- Độ phức tạp của thuật toán: https://www.geeksforgeeks.org/complexity-cheat-sheet-for-python-operations/\n",
    "- Vìdeo:\n",
    "        https://www.youtube.com/watch?v=tLZypRFV-Xk\n"
   ]
  }
 ],
 "metadata": {
  "kernelspec": {
   "display_name": "Python 3",
   "language": "python",
   "name": "python3"
  },
  "language_info": {
   "codemirror_mode": {
    "name": "ipython",
    "version": 3
   },
   "file_extension": ".py",
   "mimetype": "text/x-python",
   "name": "python",
   "nbconvert_exporter": "python",
   "pygments_lexer": "ipython3",
   "version": "3.11.9"
  }
 },
 "nbformat": 4,
 "nbformat_minor": 2
}
